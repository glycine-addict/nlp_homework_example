{
  "nbformat": 4,
  "nbformat_minor": 0,
  "metadata": {
    "accelerator": "GPU",
    "colab": {
      "name": "YDSA_NLP_HW_SEQ2SEQ",
      "provenance": [],
      "collapsed_sections": [
        "edk_oVg0lrtW"
      ]
    },
    "kernelspec": {
      "display_name": "Python 3",
      "language": "python",
      "name": "python3"
    },
    "language_info": {
      "codemirror_mode": {
        "name": "ipython",
        "version": 3
      },
      "file_extension": ".py",
      "mimetype": "text/x-python",
      "name": "python",
      "nbconvert_exporter": "python",
      "pygments_lexer": "ipython3",
      "version": "3.8.3"
    }
  },
  "cells": [
    {
      "cell_type": "markdown",
      "metadata": {
        "id": "HmsFABwClrsS"
      },
      "source": [
        "## Seminar and homework (10 points total)\n",
        "\n",
        "Today we shall compose encoder-decoder neural networks and apply them to the task of machine translation.\n",
        "\n",
        "![img](https://esciencegroup.files.wordpress.com/2016/03/seq2seq.jpg)\n",
        "_(img: esciencegroup.files.wordpress.com)_\n",
        "\n",
        "\n",
        "Encoder-decoder architectures are about converting anything to anything, including\n",
        " * Machine translation and spoken dialogue systems\n",
        " * [Image captioning](http://mscoco.org/dataset/#captions-challenge2015) and [image2latex](https://openai.com/requests-for-research/#im2latex) (convolutional encoder, recurrent decoder)\n",
        " * Generating [images by captions](https://arxiv.org/abs/1511.02793) (recurrent encoder, convolutional decoder)\n",
        " * Grapheme2phoneme - convert words to transcripts"
      ]
    },
    {
      "cell_type": "markdown",
      "metadata": {
        "id": "R4N9AD2dlrsU"
      },
      "source": [
        "## Our task: machine translation\n",
        "\n",
        "We gonna try our encoder-decoder models on russian to english machine translation problem. More specifically, we'll translate hotel and hostel descriptions. This task shows the scale of machine translation while not requiring you to train your model for weeks if you don't use GPU.\n",
        "\n",
        "Before we get to the architecture, there's some preprocessing to be done. ~~Go tokenize~~ Alright, this time we've done preprocessing for you. As usual, the data will be tokenized with WordPunctTokenizer.\n",
        "\n",
        "However, there's one more thing to do. Our data lines contain unique rare words. If we operate on a word level, we will have to deal with large vocabulary size. If instead we use character-level models, it would take lots of iterations to process a sequence. This time we're gonna pick something inbetween.\n",
        "\n",
        "One popular approach is called [Byte Pair Encoding](https://github.com/rsennrich/subword-nmt) aka __BPE__. The algorithm starts with a character-level tokenization and then iteratively merges most frequent pairs for N iterations. This results in frequent words being merged into a single token and rare words split into syllables or even characters.\n",
        "\n"
      ]
    },
    {
      "cell_type": "code",
      "metadata": {
        "id": "CfvojjHQlrsU",
        "colab": {
          "base_uri": "https://localhost:8080/"
        },
        "outputId": "0c7b757e-a891-4ca0-acea-ec3ec66c51e7"
      },
      "source": [
        "!pip3 install torch>=1.3.0\n",
        "!pip3 install subword-nmt &> log\n",
        "!wget https://www.dropbox.com/s/yy2zqh34dyhv07i/data.txt?dl=1 -O data.txt\n",
        "!wget https://raw.githubusercontent.com/yandexdataschool/nlp_course/2020/week04_seq2seq/vocab.py -O vocab.py\n",
        "# thanks to tilda and deephack teams for the data, Dmitry Emelyanenko for the code :)"
      ],
      "execution_count": null,
      "outputs": [
        {
          "output_type": "stream",
          "name": "stdout",
          "text": [
            "--2021-10-22 13:46:54--  https://www.dropbox.com/s/yy2zqh34dyhv07i/data.txt?dl=1\n",
            "Resolving www.dropbox.com (www.dropbox.com)... 162.125.3.18, 2620:100:601b:18::a27d:812\n",
            "Connecting to www.dropbox.com (www.dropbox.com)|162.125.3.18|:443... connected.\n",
            "HTTP request sent, awaiting response... 301 Moved Permanently\n",
            "Location: /s/dl/yy2zqh34dyhv07i/data.txt [following]\n",
            "--2021-10-22 13:46:54--  https://www.dropbox.com/s/dl/yy2zqh34dyhv07i/data.txt\n",
            "Reusing existing connection to www.dropbox.com:443.\n",
            "HTTP request sent, awaiting response... 302 Found\n",
            "Location: https://uc65fce9c456746c9ac8b11fa83e.dl.dropboxusercontent.com/cd/0/get/BYjVq0AYmI0mqkNEuafmXyL61WdQK_5XrUyl-zbsMjLGozmx3FxWPimjwIAhLNwP1a1RkLUq_tuXKjSVxVFf7b2hJPc2_6v0eGwCwTEnqbPl3rawAAnnIGJZ8v7DnDAWEG2OUWEk_uE_gR627Jhg-_Ce/file?dl=1# [following]\n",
            "--2021-10-22 13:46:54--  https://uc65fce9c456746c9ac8b11fa83e.dl.dropboxusercontent.com/cd/0/get/BYjVq0AYmI0mqkNEuafmXyL61WdQK_5XrUyl-zbsMjLGozmx3FxWPimjwIAhLNwP1a1RkLUq_tuXKjSVxVFf7b2hJPc2_6v0eGwCwTEnqbPl3rawAAnnIGJZ8v7DnDAWEG2OUWEk_uE_gR627Jhg-_Ce/file?dl=1\n",
            "Resolving uc65fce9c456746c9ac8b11fa83e.dl.dropboxusercontent.com (uc65fce9c456746c9ac8b11fa83e.dl.dropboxusercontent.com)... 162.125.3.15, 2620:100:601d:15::a27d:50f\n",
            "Connecting to uc65fce9c456746c9ac8b11fa83e.dl.dropboxusercontent.com (uc65fce9c456746c9ac8b11fa83e.dl.dropboxusercontent.com)|162.125.3.15|:443... connected.\n",
            "HTTP request sent, awaiting response... 200 OK\n",
            "Length: 12905335 (12M) [application/binary]\n",
            "Saving to: ‘data.txt’\n",
            "\n",
            "data.txt            100%[===================>]  12.31M  69.6MB/s    in 0.2s    \n",
            "\n",
            "2021-10-22 13:46:55 (69.6 MB/s) - ‘data.txt’ saved [12905335/12905335]\n",
            "\n",
            "--2021-10-22 13:46:55--  https://raw.githubusercontent.com/yandexdataschool/nlp_course/2020/week04_seq2seq/vocab.py\n",
            "Resolving raw.githubusercontent.com (raw.githubusercontent.com)... 185.199.108.133, 185.199.109.133, 185.199.110.133, ...\n",
            "Connecting to raw.githubusercontent.com (raw.githubusercontent.com)|185.199.108.133|:443... connected.\n",
            "HTTP request sent, awaiting response... 200 OK\n",
            "Length: 2879 (2.8K) [text/plain]\n",
            "Saving to: ‘vocab.py’\n",
            "\n",
            "vocab.py            100%[===================>]   2.81K  --.-KB/s    in 0s      \n",
            "\n",
            "2021-10-22 13:46:56 (23.9 MB/s) - ‘vocab.py’ saved [2879/2879]\n",
            "\n"
          ]
        }
      ]
    },
    {
      "cell_type": "code",
      "metadata": {
        "id": "g9kP0SdxlrsY"
      },
      "source": [
        "from nltk.tokenize import WordPunctTokenizer\n",
        "from subword_nmt.learn_bpe import learn_bpe\n",
        "from subword_nmt.apply_bpe import BPE\n",
        "tokenizer = WordPunctTokenizer()\n",
        "def tokenize(x):\n",
        "    return ' '.join(tokenizer.tokenize(x.lower()))\n",
        "\n",
        "# split and tokenize the data\n",
        "with open('train.en', 'w') as f_src,  open('train.ru', 'w') as f_dst:\n",
        "    for line in open('data.txt'):\n",
        "        src_line, dst_line = line.strip().split('\\t')\n",
        "        f_src.write(tokenize(src_line) + '\\n')\n",
        "        f_dst.write(tokenize(dst_line) + '\\n')\n",
        "\n",
        "# build and apply bpe vocs\n",
        "bpe = {}\n",
        "for lang in ['en', 'ru']:\n",
        "    learn_bpe(open('./train.' + lang), open('bpe_rules.' + lang, 'w'), num_symbols=8000)\n",
        "    bpe[lang] = BPE(open('./bpe_rules.' + lang))\n",
        "    \n",
        "    with open('train.bpe.' + lang, 'w') as f_out:\n",
        "        for line in open('train.' + lang):\n",
        "            f_out.write(bpe[lang].process_line(line.strip()) + '\\n')"
      ],
      "execution_count": null,
      "outputs": []
    },
    {
      "cell_type": "markdown",
      "metadata": {
        "id": "0UPW3sV8lrsb"
      },
      "source": [
        "### Building vocabularies\n",
        "\n",
        "We now need to build vocabularies that map strings to token ids and vice versa. We're gonna need these fellas when we feed training data into model or convert output matrices into words."
      ]
    },
    {
      "cell_type": "code",
      "metadata": {
        "id": "CmTy_m_olrsb"
      },
      "source": [
        "import numpy as np\n",
        "import matplotlib.pyplot as plt\n",
        "%matplotlib inline"
      ],
      "execution_count": null,
      "outputs": []
    },
    {
      "cell_type": "code",
      "metadata": {
        "id": "8PskgBSxlrsd",
        "colab": {
          "base_uri": "https://localhost:8080/"
        },
        "outputId": "2041add9-31eb-46ec-c60d-ee198b89f9d9"
      },
      "source": [
        "data_inp = np.array(open('./train.bpe.ru').read().split('\\n'))\n",
        "data_out = np.array(open('./train.bpe.en').read().split('\\n'))\n",
        "\n",
        "from sklearn.model_selection import train_test_split\n",
        "train_inp, dev_inp, train_out, dev_out = train_test_split(data_inp, data_out, test_size=3000,\n",
        "                                                          random_state=42)\n",
        "for i in range(3):\n",
        "    print('inp:', train_inp[i])\n",
        "    print('out:', train_out[i], end='\\n\\n')"
      ],
      "execution_count": null,
      "outputs": [
        {
          "output_type": "stream",
          "name": "stdout",
          "text": [
            "inp: на территории обустроена бесплатная частная парковка .\n",
            "out: free private parking is available on site .\n",
            "\n",
            "inp: кроме того , в 5 минутах ходьбы работают многочисленные бары и рестораны .\n",
            "out: guests can find many bars and restaurants within a 5 - minute walk .\n",
            "\n",
            "inp: отель san mi@@ gu@@ el расположен в центре мор@@ ели@@ и , в 750 метрах от главной площади города и кафедрального собора .\n",
            "out: hotel san miguel is located in central more@@ lia , 750 metres from the city ’ s main square and cathedral .\n",
            "\n"
          ]
        }
      ]
    },
    {
      "cell_type": "code",
      "metadata": {
        "id": "vipg4O61lrsg"
      },
      "source": [
        "from vocab import Vocab\n",
        "inp_voc = Vocab.from_lines(train_inp)\n",
        "out_voc = Vocab.from_lines(train_out)"
      ],
      "execution_count": null,
      "outputs": []
    },
    {
      "cell_type": "code",
      "metadata": {
        "id": "cwOoHfuhlrsi",
        "colab": {
          "base_uri": "https://localhost:8080/"
        },
        "outputId": "3ffc3a0a-c268-4246-dd06-8a223c31dfaa"
      },
      "source": [
        "# Here's how you cast lines into ids and backwards.\n",
        "batch_lines = sorted(train_inp, key=len)[5:10]\n",
        "batch_ids = inp_voc.to_matrix(batch_lines)\n",
        "batch_lines_restored = inp_voc.to_lines(batch_ids)\n",
        "\n",
        "print(\"lines\")\n",
        "print(batch_lines)\n",
        "print(\"\\nwords to ids (0 = bos, 1 = eos):\")\n",
        "print(batch_ids)\n",
        "print(\"\\nback to words\")\n",
        "print(batch_lines_restored)"
      ],
      "execution_count": null,
      "outputs": [
        {
          "output_type": "stream",
          "name": "stdout",
          "text": [
            "lines\n",
            "['гостевой дом r .', 'до афин — 20 км .', 'работает боулинг .', 'оборудован балкон .', 'подключен wi - fi .']\n",
            "\n",
            "words to ids (0 = bos, 1 = eos):\n",
            "tensor([[   0, 2688, 2943, 1108,   29,    1,    1,    1],\n",
            "        [   0, 2922, 1834, 8035,   59, 3800,   29,    1],\n",
            "        [   0, 6030, 2083,   29,    1,    1,    1,    1],\n",
            "        [   0, 4927, 1870,   29,    1,    1,    1,    1],\n",
            "        [   0, 5549, 1453,   27,  592,   29,    1,    1]])\n",
            "\n",
            "back to words\n",
            "['гостевой дом r .', 'до афин — 20 км .', 'работает боулинг .', 'оборудован балкон .', 'подключен wi - fi .']\n"
          ]
        }
      ]
    },
    {
      "cell_type": "markdown",
      "metadata": {
        "id": "gSYu-MkElrsk"
      },
      "source": [
        "Draw source and translation length distributions to estimate the scope of the task."
      ]
    },
    {
      "cell_type": "code",
      "metadata": {
        "id": "TLLl9cSNlrsl",
        "colab": {
          "base_uri": "https://localhost:8080/",
          "height": 281
        },
        "outputId": "2bc26bbe-56e1-47fb-9e37-a347f9d4ebe3"
      },
      "source": [
        "plt.figure(figsize=[8, 4])\n",
        "plt.subplot(1, 2, 1)\n",
        "plt.title(\"source length\")\n",
        "plt.hist(list(map(len, map(str.split, train_inp))), bins=20);\n",
        "\n",
        "plt.subplot(1, 2, 2)\n",
        "plt.title(\"translation length\")\n",
        "plt.hist(list(map(len, map(str.split, train_out))), bins=20);"
      ],
      "execution_count": null,
      "outputs": [
        {
          "output_type": "display_data",
          "data": {
            "image/png": "[encoded data removed]",
            "text/plain": [
              "<Figure size 576x288 with 2 Axes>"
            ]
          },
          "metadata": {
            "needs_background": "light"
          }
        }
      ]
    },
    {
      "cell_type": "markdown",
      "metadata": {
        "id": "BHWgx34flrsn"
      },
      "source": [
        "### Encoder-decoder model\n",
        "\n",
        "The code below contains a template for a simple encoder-decoder model: single GRU encoder/decoder, no attention or anything. This model is implemented for you as a reference and a baseline for your homework assignment."
      ]
    },
    {
      "cell_type": "code",
      "metadata": {
        "id": "pd_rDRm9lrso"
      },
      "source": [
        "import torch\n",
        "import torch.nn as nn\n",
        "import torch.nn.functional as F\n",
        "device = 'cuda' if torch.cuda.is_available() else 'cpu'"
      ],
      "execution_count": null,
      "outputs": []
    },
    {
      "cell_type": "code",
      "metadata": {
        "id": "1dxUH0E644Fb"
      },
      "source": [
        "dummy_inp_tokens = inp_voc.to_matrix(sorted(train_inp, key=len)[5:10]).to(device)\n",
        "dummy_out_tokens = out_voc.to_matrix(sorted(train_out, key=len)[5:10]).to(device)"
      ],
      "execution_count": null,
      "outputs": []
    },
    {
      "cell_type": "code",
      "metadata": {
        "id": "fPEa-Vvk5Z1M",
        "colab": {
          "base_uri": "https://localhost:8080/"
        },
        "outputId": "dad096eb-1d04-4473-bf14-e96d90abbc40"
      },
      "source": [
        "dummy_inp_tokens"
      ],
      "execution_count": null,
      "outputs": [
        {
          "output_type": "execute_result",
          "data": {
            "text/plain": [
              "tensor([[   0, 2688, 2943, 1108,   29,    1,    1,    1],\n",
              "        [   0, 2922, 1834, 8035,   59, 3800,   29,    1],\n",
              "        [   0, 6030, 2083,   29,    1,    1,    1,    1],\n",
              "        [   0, 4927, 1870,   29,    1,    1,    1,    1],\n",
              "        [   0, 5549, 1453,   27,  592,   29,    1,    1]], device='cuda:0')"
            ]
          },
          "metadata": {},
          "execution_count": 10
        }
      ]
    },
    {
      "cell_type": "code",
      "metadata": {
        "id": "kgCXxc266ITr",
        "colab": {
          "base_uri": "https://localhost:8080/"
        },
        "outputId": "149873c2-22bd-4494-df43-7bb27fcca15c"
      },
      "source": [
        "inp_voc.compute_mask(dummy_inp_tokens)"
      ],
      "execution_count": null,
      "outputs": [
        {
          "output_type": "execute_result",
          "data": {
            "text/plain": [
              "tensor([[ True,  True,  True,  True,  True,  True, False, False],\n",
              "        [ True,  True,  True,  True,  True,  True,  True,  True],\n",
              "        [ True,  True,  True,  True,  True, False, False, False],\n",
              "        [ True,  True,  True,  True,  True, False, False, False],\n",
              "        [ True,  True,  True,  True,  True,  True,  True, False]],\n",
              "       device='cuda:0')"
            ]
          },
          "metadata": {},
          "execution_count": 11
        }
      ]
    },
    {
      "cell_type": "code",
      "metadata": {
        "id": "fFQEt9Sz5l2Q",
        "colab": {
          "base_uri": "https://localhost:8080/"
        },
        "outputId": "d698f091-fd95-4ebc-fbea-3409ebce8263"
      },
      "source": [
        "dummy_out_tokens"
      ],
      "execution_count": null,
      "outputs": [
        {
          "output_type": "execute_result",
          "data": {
            "text/plain": [
              "tensor([[   0, 6592, 3191, 6214,   23,    1,    1],\n",
              "        [   0, 7323, 3434, 2667,   23,    1,    1],\n",
              "        [   0, 2145, 3049,  190, 6858,   23,    1],\n",
              "        [   0, 4890, 3434, 2667,   23,    1,    1],\n",
              "        [   0, 4890, 3434, 2667,   23,    1,    1]], device='cuda:0')"
            ]
          },
          "metadata": {},
          "execution_count": 12
        }
      ]
    },
    {
      "cell_type": "code",
      "metadata": {
        "id": "wgfN5-F7lrst"
      },
      "source": [
        "class BasicModel(nn.Module):\n",
        "    def __init__(self, inp_voc, out_voc, emb_size=64, hid_size=128):\n",
        "        \"\"\"\n",
        "        A simple encoder-decoder seq2seq model\n",
        "        \"\"\"\n",
        "        super().__init__() # initialize base class to track sub-layers, parameters, etc.\n",
        "\n",
        "        self.inp_voc, self.out_voc = inp_voc, out_voc\n",
        "        self.hid_size = hid_size\n",
        "        \n",
        "        self.emb_inp = nn.Embedding(len(inp_voc), emb_size)\n",
        "        self.emb_out = nn.Embedding(len(out_voc), emb_size)\n",
        "        self.enc0 = nn.GRU(emb_size, hid_size, batch_first=True)\n",
        "\n",
        "        self.dec_start = nn.Linear(hid_size, hid_size)\n",
        "        self.dec0 = nn.GRUCell(emb_size, hid_size)\n",
        "        self.logits = nn.Linear(hid_size, len(out_voc))\n",
        "        \n",
        "    def forward(self, inp, out):\n",
        "        \"\"\" Apply model in training mode \"\"\"\n",
        "        initial_state = self.encode(inp) # [1, batch_size, hid_size]\n",
        "        return self.decode(initial_state, out)\n",
        "\n",
        "\n",
        "    def encode(self, inp, **flags):\n",
        "        \"\"\"\n",
        "        Takes symbolic input sequence, computes initial state\n",
        "        :param inp: matrix of input tokens [batch, time]\n",
        "        :returns: initial decoder state tensors, one or many\n",
        "        \"\"\"\n",
        "        inp_emb = self.emb_inp(inp)\n",
        "        batch_size = inp.shape[0]\n",
        "        \n",
        "        enc_seq, [last_state_but_not_really] = self.enc0(inp_emb)\n",
        "        # enc_seq: [batch, time, hid_size], last_state: [batch, hid_size]\n",
        "        \n",
        "        # note: last_state is not _actually_ last because of padding, let's find the real last_state\n",
        "        lengths = (inp != self.inp_voc.eos_ix).to(torch.int64).sum(dim=1).clamp_max(inp.shape[1] - 1)\n",
        "        last_state = enc_seq[torch.arange(len(enc_seq)), lengths]\n",
        "        # ^-- shape: [batch_size, hid_size]\n",
        "        \n",
        "        dec_start = self.dec_start(last_state)\n",
        "        return [dec_start] # [1, batch_size, hid_size]\n",
        "\n",
        "    def decode_step(self, prev_state, prev_tokens, **flags):\n",
        "        \"\"\"\n",
        "        Takes previous decoder state and tokens, returns new state and logits for next tokens\n",
        "        :param prev_state: a list of previous decoder state tensors, same as returned by encode(...)\n",
        "        :param prev_tokens: previous output tokens, an int vector of [batch_size]\n",
        "        :return: a list of next decoder state tensors, a tensor of logits [batch, len(out_voc)]\n",
        "        \"\"\"\n",
        "        prev_gru0_state = prev_state[0]\n",
        "\n",
        "        # <YOUR CODE HERE>\n",
        "        \n",
        "        out_emb = self.emb_out(prev_tokens)\n",
        "        new_dec_state = self.dec0(out_emb, prev_gru0_state)\n",
        "        output_logits = self.logits(new_dec_state)\n",
        "\n",
        "        return [new_dec_state], output_logits\n",
        "\n",
        "    def decode(self, initial_state, out_tokens, **flags):\n",
        "        \"\"\" Iterate over reference tokens (out_tokens) with decode_step \"\"\"\n",
        "        batch_size = out_tokens.shape[0]\n",
        "        state = initial_state # [1, batch_size, hid_size]\n",
        "        \n",
        "        # initial logits: always predict BOS\n",
        "        onehot_bos = F.one_hot(torch.full([batch_size], self.out_voc.bos_ix, dtype=torch.int64),\n",
        "                               num_classes=len(self.out_voc)).to(device=out_tokens.device)\n",
        "        first_logits = torch.log(onehot_bos.to(torch.float32) + 1e-9) # [batch_size, len(self.out_voc)]\n",
        "        \n",
        "        logits_sequence = [first_logits] # [1, batch_size, len(self.out_voc)]\n",
        "        for i in range(out_tokens.shape[1] - 1):\n",
        "            state, logits = self.decode_step(state, out_tokens[:, i])\n",
        "            logits_sequence.append(logits)\n",
        "        return torch.stack(logits_sequence, dim=1)\n",
        "\n",
        "    def decode_inference(self, initial_state, max_len=100, **flags):\n",
        "        \"\"\" Generate translations from model (greedy version) \"\"\"\n",
        "        batch_size, device = len(initial_state[0]), initial_state[0].device\n",
        "        state = initial_state\n",
        "        outputs = [torch.full([batch_size], self.out_voc.bos_ix, dtype=torch.int64, \n",
        "                              device=device)]\n",
        "        all_states = [initial_state]\n",
        "\n",
        "        for i in range(max_len):\n",
        "            state, logits = self.decode_step(state, outputs[-1])\n",
        "            outputs.append(logits.argmax(dim=-1))\n",
        "            all_states.append(state)\n",
        "        \n",
        "        return torch.stack(outputs, dim=1), all_states\n",
        "\n",
        "    def translate_lines(self, inp_lines, **kwargs):\n",
        "        inp = self.inp_voc.to_matrix(inp_lines).to(device)\n",
        "        initial_state = self.encode(inp)\n",
        "        out_ids, states = self.decode_inference(initial_state, **kwargs)\n",
        "        return self.out_voc.to_lines(out_ids.cpu().numpy()), states\n"
      ],
      "execution_count": null,
      "outputs": []
    },
    {
      "cell_type": "code",
      "metadata": {
        "id": "pOfrPMQDemSQ"
      },
      "source": [
        "# debugging area\n",
        "model = BasicModel(inp_voc, out_voc).to(device)\n",
        "\n",
        "dummy_inp_tokens = inp_voc.to_matrix(sorted(train_inp, key=len)[5:10]).to(device)\n",
        "dummy_out_tokens = out_voc.to_matrix(sorted(train_out, key=len)[5:10]).to(device)\n",
        "\n",
        "h0 = model.encode(dummy_inp_tokens)\n",
        "h1, logits1 = model.decode_step(h0, torch.arange(len(dummy_inp_tokens), device=device))\n",
        "\n",
        "assert isinstance(h1, list) and len(h1) == len(h0)\n",
        "assert h1[0].shape == h0[0].shape and not torch.allclose(h1[0], h0[0])\n",
        "assert logits1.shape == (len(dummy_inp_tokens), len(out_voc))\n",
        "\n",
        "logits_seq = model.decode(h0, dummy_out_tokens)\n",
        "assert logits_seq.shape == (dummy_out_tokens.shape[0], dummy_out_tokens.shape[1], len(out_voc))\n",
        "\n",
        "# full forward\n",
        "logits_seq2 = model(dummy_inp_tokens, dummy_out_tokens)\n",
        "assert logits_seq2.shape == logits_seq.shape"
      ],
      "execution_count": null,
      "outputs": []
    },
    {
      "cell_type": "code",
      "metadata": {
        "id": "sLZW_HxBemSR",
        "colab": {
          "base_uri": "https://localhost:8080/"
        },
        "outputId": "e1d6e3b5-c703-40d8-8e0f-afc872033a7a"
      },
      "source": [
        "dummy_translations, dummy_states = model.translate_lines(train_inp[:3], max_len=25)\n",
        "print(\"Translations without training:\")\n",
        "print('\\n'.join([line for line in dummy_translations]))"
      ],
      "execution_count": null,
      "outputs": [
        {
          "output_type": "stream",
          "name": "stdout",
          "text": [
            "Translations without training:\n",
            "comforts ry@@ limited holiday afri@@ flo@@ tere@@ ron@@ clar@@ auto@@ spen@@ afri@@ faro honfleur afri@@ homestay ada@@ kets gher@@ with@@ marconi satellite tem@@ pont 05\n",
            "comforts ry@@ limited holiday afri@@ form south studio mond cair@@ fo@@ charlotte backpackers baza aa comfortable gical mountains site bathing reme region thermal strand@@ ge@@\n",
            "comforts ry@@ limited holiday afri@@ form south studio mond cair@@ fo@@ charlotte backpackers baza aa comfortable gical mountains site bathing reme region thermal strand@@ ge@@\n"
          ]
        }
      ]
    },
    {
      "cell_type": "markdown",
      "metadata": {
        "id": "_wuv1-aVlrs0"
      },
      "source": [
        "### Training loss (2 points)\n",
        "\n",
        "Our training objective is almost the same as it was for neural language models:\n",
        "$$ L = {\\frac1{|D|}} \\sum_{X, Y \\in D} \\sum_{y_t \\in Y} - \\log p(y_t \\mid y_1, \\dots, y_{t-1}, X, \\theta) $$\n",
        "\n",
        "where $|D|$ is the __total length of all sequences__, including BOS and first EOS, but excluding PAD."
      ]
    },
    {
      "cell_type": "code",
      "metadata": {
        "id": "c8XPV8sWlrs5",
        "scrolled": true
      },
      "source": [
        "\n",
        "def compute_loss(model, inp, out, **flags):\n",
        "    \"\"\"\n",
        "    Compute loss (float32 scalar) as in the formula above\n",
        "    :param inp: input tokens matrix, int32[batch, time]\n",
        "    :param out: reference tokens matrix, int32[batch, time]\n",
        "    \n",
        "    In order to pass the tests, your function should\n",
        "    * include loss at first EOS but not the subsequent ones\n",
        "    * divide sum of losses by a sum of input lengths (use voc.compute_mask)\n",
        "    \"\"\"\n",
        "    mask = model.out_voc.compute_mask(out) # [batch_size, out_len]\n",
        "    targets_1hot = F.one_hot(out, len(model.out_voc)).to(torch.float32)\n",
        "    \n",
        "    # outputs of the model, [batch_size, out_len, num_tokens]\n",
        "    # logits_seq = <YOUR CODE HERE>\n",
        "\n",
        "    logits_seq = model(inp, out)\n",
        "\n",
        "    # log-probabilities of all tokens at all steps, [batch_size, out_len, num_tokens]\n",
        "    # logprobs_seq = <YOUR CODE HERE>\n",
        "\n",
        "    logprobs_seq = F.log_softmax(logits_seq, 2)\n",
        "   \n",
        "    # log-probabilities of correct outputs, [batch_size, out_len]\n",
        "    logp_out = (logprobs_seq * targets_1hot).sum(dim=-1)\n",
        "    # ^-- this will select the probability of the actual next token.\n",
        "    # Note: you can compute loss more efficiently using using F.cross_entropy\n",
        "\n",
        "    # average cross-entropy over tokens where mask == True\n",
        "    # return <YOUR CODE HERE> # average loss, scalar\n",
        "    \n",
        "    return - torch.sum(logp_out * mask) / torch.sum(mask) # average loss, scalar"
      ],
      "execution_count": null,
      "outputs": []
    },
    {
      "cell_type": "code",
      "metadata": {
        "id": "ME_LWUeklrs7",
        "colab": {
          "base_uri": "https://localhost:8080/"
        },
        "outputId": "3bcfcd70-1931-46d7-a1bb-4a4cbf114ac0"
      },
      "source": [
        "dummy_loss = compute_loss(model, dummy_inp_tokens, dummy_out_tokens)\n",
        "print(\"Loss:\", dummy_loss)\n",
        "assert np.allclose(dummy_loss.item(), 7.5, rtol=0.1, atol=0.1), \"We're sorry for your loss\"\n",
        "\n",
        "# test autograd\n",
        "dummy_loss.backward()\n",
        "for name, param in model.named_parameters():\n",
        "    assert param.grad is not None and abs(param.grad.max()) != 0, f\"Param {name} received no gradients\""
      ],
      "execution_count": null,
      "outputs": [
        {
          "output_type": "stream",
          "name": "stdout",
          "text": [
            "Loss: tensor(7.5149, device='cuda:0', grad_fn=<DivBackward0>)\n"
          ]
        }
      ]
    },
    {
      "cell_type": "markdown",
      "metadata": {
        "id": "HpbaBpW7lrs-"
      },
      "source": [
        "### Evaluation: BLEU\n",
        "\n",
        "Machine translation is commonly evaluated with [BLEU](https://en.wikipedia.org/wiki/BLEU) score. This metric simply computes which fraction of predicted n-grams is actually present in the reference translation. It does so for n=1,2,3 and 4 and computes the geometric average with penalty if translation is shorter than reference.\n",
        "\n",
        "While BLEU [has many drawbacks](http://www.cs.jhu.edu/~ccb/publications/re-evaluating-the-role-of-bleu-in-mt-research.pdf), it still remains the most commonly used metric and one of the simplest to compute."
      ]
    },
    {
      "cell_type": "code",
      "metadata": {
        "id": "Gb1-PhKIlrs-"
      },
      "source": [
        "from nltk.translate.bleu_score import corpus_bleu\n",
        "def compute_bleu(model, inp_lines, out_lines, bpe_sep='@@ ', **flags):\n",
        "    \"\"\"\n",
        "    Estimates corpora-level BLEU score of model's translations given inp and reference out\n",
        "    Note: if you're serious about reporting your results, use https://pypi.org/project/sacrebleu\n",
        "    \"\"\"\n",
        "    with torch.no_grad():\n",
        "        translations, _ = model.translate_lines(inp_lines, **flags)\n",
        "        translations = [line.replace(bpe_sep, '') for line in translations]\n",
        "        actual = [line.replace(bpe_sep, '') for line in out_lines]\n",
        "        return corpus_bleu(\n",
        "            [[ref.split()] for ref in actual],\n",
        "            [trans.split() for trans in translations],\n",
        "            smoothing_function=lambda precisions, **kw: [p + 1.0 / p.denominator for p in precisions]\n",
        "            ) * 100"
      ],
      "execution_count": null,
      "outputs": []
    },
    {
      "cell_type": "code",
      "metadata": {
        "id": "gZvfid1RlrtA",
        "colab": {
          "base_uri": "https://localhost:8080/"
        },
        "outputId": "e1eb26c1-a6e9-4118-de1f-1ca1451cebf0"
      },
      "source": [
        "compute_bleu(model, dev_inp, dev_out)"
      ],
      "execution_count": null,
      "outputs": [
        {
          "output_type": "execute_result",
          "data": {
            "text/plain": [
              "0.0020438982069124825"
            ]
          },
          "metadata": {},
          "execution_count": 19
        }
      ]
    },
    {
      "cell_type": "markdown",
      "metadata": {
        "id": "nQDhGwg4lrtC"
      },
      "source": [
        "### Training loop\n",
        "\n",
        "Training encoder-decoder models isn't that different from any other models: sample batches, compute loss, backprop and update"
      ]
    },
    {
      "cell_type": "code",
      "metadata": {
        "id": "yfwIaixHlrtI",
        "scrolled": false
      },
      "source": [
        "from IPython.display import clear_output\n",
        "from tqdm import tqdm, trange\n",
        "metrics = {'train_loss': [], 'dev_bleu': [] }\n",
        "\n",
        "model = BasicModel(inp_voc, out_voc).to(device)\n",
        "opt = torch.optim.Adam(model.parameters(), lr=1e-3)\n",
        "batch_size = 32"
      ],
      "execution_count": null,
      "outputs": []
    },
    {
      "cell_type": "code",
      "metadata": {
        "id": "LlDT6eDUlrtL",
        "scrolled": true,
        "colab": {
          "base_uri": "https://localhost:8080/",
          "height": 314
        },
        "outputId": "8aaf9f49-c8c6-4e01-dc8f-e0e7b4089eba"
      },
      "source": [
        "for _ in trange(25000):\n",
        "    step = len(metrics['train_loss']) + 1\n",
        "    batch_ix = np.random.randint(len(train_inp), size=batch_size)\n",
        "    batch_inp = inp_voc.to_matrix(train_inp[batch_ix]).to(device)\n",
        "    batch_out = out_voc.to_matrix(train_out[batch_ix]).to(device)\n",
        "\n",
        "    #<YOUR CODE: training step using batch_inp and batch_out>\n",
        "    \n",
        "    opt.zero_grad()\n",
        "    loss_t = compute_loss(model, batch_inp, batch_out)\n",
        "    loss_t.backward()\n",
        "    opt.step()\n",
        "\n",
        "    metrics['train_loss'].append((step, loss_t.item()))\n",
        "    \n",
        "    if step % 100 == 0:\n",
        "        metrics['dev_bleu'].append((step, compute_bleu(model, dev_inp, dev_out)))\n",
        "        \n",
        "        clear_output(True)\n",
        "        plt.figure(figsize=(12,4))\n",
        "        for i, (name, history) in enumerate(sorted(metrics.items())):\n",
        "            plt.subplot(1, len(metrics), i + 1)\n",
        "            plt.title(name)\n",
        "            plt.plot(*zip(*history))\n",
        "            plt.grid()\n",
        "        plt.show()\n",
        "        print(\"Mean loss=%.3f\" % np.mean(metrics['train_loss'][-10:], axis=0)[1], flush=True)\n",
        "        \n",
        "# Note: it's okay if bleu oscillates up and down as long as it gets better on average over long term (e.g. 5k batches)"
      ],
      "execution_count": null,
      "outputs": [
        {
          "output_type": "display_data",
          "data": {
            "image/png": "[encoded data removed]",
            "text/plain": [
              "<Figure size 864x288 with 2 Axes>"
            ]
          },
          "metadata": {
            "needs_background": "light"
          }
        },
        {
          "output_type": "stream",
          "name": "stdout",
          "text": [
            "Mean loss=1.739\n"
          ]
        },
        {
          "output_type": "stream",
          "name": "stderr",
          "text": [
            "100%|██████████| 25000/25000 [35:14<00:00, 11.82it/s]\n"
          ]
        }
      ]
    },
    {
      "cell_type": "code",
      "metadata": {
        "id": "2ahuhKVhlrtP"
      },
      "source": [
        "assert np.mean(metrics['dev_bleu'][-10:], axis=0)[1] > 15, \"We kind of need a higher bleu BLEU from you. Kind of right now.\""
      ],
      "execution_count": null,
      "outputs": []
    },
    {
      "cell_type": "code",
      "metadata": {
        "id": "KyaHOpealrtS",
        "colab": {
          "base_uri": "https://localhost:8080/"
        },
        "outputId": "aa2ed931-bd91-48f3-dd48-659b9b0b827b"
      },
      "source": [
        "for inp_line, trans_line in zip(dev_inp[::500], model.translate_lines(dev_inp[::500])[0]):\n",
        "    print(inp_line)\n",
        "    print(trans_line)\n",
        "    print()"
      ],
      "execution_count": null,
      "outputs": [
        {
          "output_type": "stream",
          "name": "stdout",
          "text": [
            "в распоряжении гостей общая кухня и общая гостиная .\n",
            "the property offers shared kitchen facilities and a kitchen .\n",
            "\n",
            "кроме того , предоставляется прокат велосипедов , услуги трансфера и бесплатная парковка .\n",
            "the property offers free parking and bike rentals .\n",
            "\n",
            "расстояние до города ки@@ сси@@ м@@ ми составляет 26 км .\n",
            "saint lau@@ x church is 26 km away .\n",
            "\n",
            "апартаменты в пент@@ хаусе с общим открытым бассейном , садом , кондиционером и террасой для загара расположены в 5 минутах ходьбы от пляжа на курорте ка@@ бо - рой .\n",
            "featuring a garden with a terrace , villa isla mallorca is a self - catering accommodation located in the centre of vod@@ ice , a 5 - minute walk from the beach and the beach . the property features a terrace with outdoor pool .\n",
            "\n",
            "апартаменты mo@@ s@@ co@@ w point - loft red square находятся в москве , в 200 метрах от большого театра .\n",
            "apartment on dong@@ da@@ em@@ y hostel is located in the heart of the republic square , the apartment is 700 metres from the museum of the holy blood .\n",
            "\n",
            "в вашем распоряжении собственная ванная комната с душем и полотенцами .\n",
            "featuring a shower , private bathrooms also come with towels .\n",
            "\n"
          ]
        }
      ]
    },
    {
      "cell_type": "markdown",
      "metadata": {
        "id": "Tv0s8qxOXp5y"
      },
      "source": [
        "# Homework code templates will appear here soon!"
      ]
    },
    {
      "cell_type": "markdown",
      "metadata": {
        "id": "edk_oVg0lrtW"
      },
      "source": [
        "### Your Attention Required\n",
        "\n",
        "In this section we want you to improve over the basic model by implementing a simple attention mechanism.\n",
        "\n",
        "This is gonna be a two-parter: building the __attention layer__ and using it for an __attentive seq2seq model__."
      ]
    },
    {
      "cell_type": "markdown",
      "metadata": {
        "id": "Qz9aROAIlrtX"
      },
      "source": [
        "### Attention layer (3 points)\n",
        "\n",
        "Here you will have to implement a layer that computes a simple additive attention:\n",
        "\n",
        "Given encoder sequence $ h^e_0, h^e_1, h^e_2, ..., h^e_T$ and a single decoder state $h^d$,\n",
        "\n",
        "* Compute logits with a 2-layer neural network\n",
        "$$a_t = linear_{out}(tanh(linear_{e}(h^e_t) + linear_{d}(h_d)))$$\n",
        "* Get probabilities from logits, \n",
        "$$ p_t = {{e ^ {a_t}} \\over { \\sum_\\tau e^{a_\\tau} }} $$\n",
        "\n",
        "* Add up encoder states with probabilities to get __attention response__\n",
        "$$ attn = \\sum_t p_t \\cdot h^e_t $$\n",
        "\n",
        "You can learn more about attention layers in the lecture slides or [from this post](https://distill.pub/2016/augmented-rnns/)."
      ]
    },
    {
      "cell_type": "code",
      "metadata": {
        "id": "Z9XYXl7AemSc"
      },
      "source": [
        "class AttentionLayer(nn.Module):\n",
        "    def __init__(self, name, enc_size, dec_size, hid_size, activ=torch.tanh):\n",
        "        \"\"\" A layer that computes additive attention response and weights \"\"\"\n",
        "        super().__init__()\n",
        "        self.name = name\n",
        "        self.enc_size = enc_size # num units in encoder state\n",
        "        self.dec_size = dec_size # num units in decoder state\n",
        "        self.hid_size = hid_size # attention layer hidden units\n",
        "        self.activ = activ       # attention layer hidden nonlinearity\n",
        "        \n",
        "        # create trainable paramteres like this:\n",
        "        self.W = nn.Parameter(nn.init.xavier_normal_(torch.empty(enc_size + dec_size, hid_size, device='cuda')), requires_grad=True)\n",
        "        self.fc1 = nn.Linear(enc_size + dec_size, hid_size)\n",
        "        self.fc1.weights = self.W\n",
        "  \n",
        "        self.w_out = nn.Parameter(nn.init.xavier_normal_(torch.zeros(hid_size, 1, device='cuda')), requires_grad=True)\n",
        "        self.fc_out = nn.Linear(hid_size, 1)\n",
        "        self.fc_out.weights = self.w_out\n",
        "        self.small_number = torch.tensor(-1e9, dtype=torch.float32, device='cuda')\n",
        "        # you will need a couple of these\n",
        "        \n",
        "\n",
        "    def forward(self, enc, dec, inp_mask):\n",
        "        \"\"\"\n",
        "        Computes attention response and weights\n",
        "        :param enc: encoder activation sequence, float32[batch_size, ninp, enc_size]\n",
        "        :param dec: single decoder state used as \"query\", float32[batch_size, dec_size]\n",
        "        :param inp_mask: mask on enc activatons (0 after first eos), float32 [batch_size, ninp]\n",
        "        :returns: attn[batch_size, enc_size], probs[batch_size, ninp]\n",
        "            - attn - attention response vector (weighted sum of enc)\n",
        "            - probs - attention weights after softmax\n",
        "        \"\"\"\n",
        "\n",
        "        # Compute logits\n",
        "        concatenated = torch.cat((enc, dec.unsqueeze(1).expand(-1, enc.shape[1], -1)), dim=2) # [batch_size, ninp, enc_size + dec_size]\n",
        "        logits = self.fc_out(self.activ(self.fc1(concatenated))) # [batch_size, ninp, 1]\n",
        "\n",
        "        # Apply mask - if mask is 0, logits should be -inf or -1e9\n",
        "        # You may need torch.where\n",
        "        logits_enc = torch.where(inp_mask, logits.squeeze(), self.small_number) # [batch_size, ninp]\n",
        "\n",
        "        # Compute attention probabilities (softmax)\n",
        "        probs = F.softmax(logits_enc, 1)\n",
        "\n",
        "        # Compute attention response using enc and probs\n",
        "        attn = (enc * probs.unsqueeze(2).expand(enc.shape)).sum(dim=1)\n",
        "\n",
        "        return attn, probs"
      ],
      "execution_count": null,
      "outputs": []
    },
    {
      "cell_type": "markdown",
      "metadata": {
        "id": "IalfpdAelrtb"
      },
      "source": [
        "### Seq2seq model with attention (3 points)\n",
        "\n",
        "You can now use the attention layer to build a network. The simplest way to implement attention is to use it in decoder phase:\n",
        "![img](https://i.imgur.com/6fKHlHb.png)\n",
        "_image from distill.pub [article](https://distill.pub/2016/augmented-rnns/)_\n",
        "\n",
        "On every step, use __previous__ decoder state to obtain attention response. Then feed concat this response to the inputs of next attention layer.\n",
        "\n",
        "The key implementation detail here is __model state__. Put simply, you can add any tensor into the list of `encode` outputs. You will then have access to them at each `decode` step. This may include:\n",
        "* Last RNN hidden states (as in basic model)\n",
        "* The whole sequence of encoder outputs (to attend to) and mask\n",
        "* Attention probabilities (to visualize)\n",
        "\n",
        "_There are, of course, alternative ways to wire attention into your network and different kinds of attention. Take a look at [this](https://arxiv.org/abs/1609.08144), [this](https://arxiv.org/abs/1706.03762) and [this](https://arxiv.org/abs/1808.03867) for ideas. And for image captioning/im2latex there's [visual attention](https://arxiv.org/abs/1502.03044)_"
      ]
    },
    {
      "cell_type": "code",
      "metadata": {
        "id": "NCKPB5JmcE6j"
      },
      "source": [
        "class AttentiveModel(BasicModel):\n",
        "    def __init__(self, name, inp_voc, out_voc,\n",
        "                 emb_size=64, hid_size=128, attn_size=128):\n",
        "        \"\"\" Translation model that uses attention. See instructions above. \"\"\"\n",
        "        # self, inp_voc, out_voc, emb_size=64, hid_size=128\n",
        "        # <YOUR CODE: initialize layers>\n",
        "        super(AttentiveModel, self).__init__(inp_voc, out_voc, emb_size, hid_size)  # initialize base class to track sub-layers, trainable variables, etc.\n",
        "        self.inp_voc, self.out_voc = inp_voc, out_voc\n",
        "        self.hid_size = hid_size\n",
        "        \n",
        "        self.dec0 = nn.GRUCell(emb_size + hid_size, hid_size)\n",
        "        self.attention = AttentionLayer(\"att1\", hid_size, hid_size, attn_size)\n",
        "\n",
        "    def encode(self, inp, **flags):\n",
        "        \"\"\"\n",
        "        Takes symbolic input sequence, computes initial state\n",
        "        :param inp: matrix of input tokens [batch, time]\n",
        "        :return: a list of initial decoder state tensors\n",
        "        \"\"\"\n",
        "        \n",
        "        # encode input sequence, create initial decoder states\n",
        "        #<YOUR CODE>\n",
        "\n",
        "        inp_emb = self.emb_inp(inp)\n",
        "        batch_size = inp.shape[0]\n",
        "        \n",
        "        enc_seq, [last_state_but_not_really] = self.enc0(inp_emb)\n",
        "        # enc_seq: [batch, time, hid_size], last_state: [batch, hid_size]\n",
        "        mask = inp_voc.compute_mask(inp)\n",
        "\n",
        "        # note: last_state is not _actually_ last because of padding, let's find the real last_state\n",
        "        lengths = (inp != self.inp_voc.eos_ix).to(torch.int64).sum(dim=1).clamp_max(inp.shape[1] - 1)\n",
        "        last_state = enc_seq[torch.arange(len(enc_seq)), lengths]\n",
        "        # ^-- shape: [batch_size, hid_size]\n",
        "        \n",
        "        dec_start = self.dec_start(last_state)\n",
        "        \n",
        "        # apply attention layer from initial decoder hidden state\n",
        "        first_attn_probas = self.attention(enc_seq, dec_start, mask)\n",
        "        \n",
        "        # Build first state: include\n",
        "        # * initial states for decoder recurrent layers\n",
        "        # * encoder sequence and encoder attn mask (for attention)\n",
        "        # * make sure that last state item is attention probabilities tensor\n",
        "        \n",
        "        first_state = [dec_start, enc_seq, mask, first_attn_probas]\n",
        "        return first_state\n",
        "   \n",
        "    def decode_step(self, prev_state, prev_tokens, **flags):\n",
        "        \"\"\"\n",
        "        Takes previous decoder state and tokens, returns new state and logits for next tokens\n",
        "        :param prev_state: a list of previous decoder state tensors\n",
        "        :param prev_tokens: previous output tokens, an int vector of [batch_size]\n",
        "        :return: a list of next decoder state tensors, a tensor of logits [batch, n_tokens]\n",
        "        \"\"\"\n",
        "        #<YOUR CODE HERE>\n",
        "        \n",
        "        prev_gru0_state = prev_state[0]\n",
        "        enc_seq = prev_state[1]\n",
        "        mask = prev_state[2]\n",
        "        attn, probas = prev_state[3]\n",
        "  \n",
        "        out_emb_and_attention = torch.cat((self.emb_out(prev_tokens), attn), dim=1) # [batch_size, emb_size]\n",
        "\n",
        "        new_gru_state = self.dec0(out_emb_and_attention, prev_gru0_state)\n",
        "        output_logits = self.logits(new_gru_state)\n",
        "\n",
        "        new_attn_probas = self.attention(enc_seq, new_gru_state, mask)\n",
        "        new_dec_state = [new_gru_state, enc_seq, mask, new_attn_probas]\n",
        "        return [new_dec_state, output_logits]\n"
      ],
      "execution_count": null,
      "outputs": []
    },
    {
      "cell_type": "markdown",
      "metadata": {
        "id": "ryZCOTEslrtf"
      },
      "source": [
        "### Training attentive model\n",
        "\n",
        "Please reuse the infrastructure you've built for the regular model. I hope you didn't hard-code anything :)"
      ]
    },
    {
      "cell_type": "code",
      "metadata": {
        "id": "-YMHPgZxcFaQ"
      },
      "source": [
        "#<YOUR CODE: create AttentiveModel and training utilities>\n",
        "from IPython.display import clear_output\n",
        "from tqdm import tqdm, trange\n",
        "metrics = {'train_loss': [], 'dev_bleu': [] }\n",
        "\n",
        "model = AttentiveModel(\"all you need\", inp_voc, out_voc).to(device)\n",
        "opt = torch.optim.Adam(model.parameters(), lr=1e-3)\n",
        "batch_size = 32"
      ],
      "execution_count": null,
      "outputs": []
    },
    {
      "cell_type": "code",
      "metadata": {
        "id": "_M_5lOrbemSf",
        "colab": {
          "base_uri": "https://localhost:8080/",
          "height": 315
        },
        "outputId": "1d55f926-1097-4630-c93b-9e48bc2485bf"
      },
      "source": [
        "#<YOUR CODE: training loop>\n",
        "for _ in trange(25000):\n",
        "    step = len(metrics['train_loss']) + 1\n",
        "    batch_ix = np.random.randint(len(train_inp), size=batch_size)\n",
        "    batch_inp = inp_voc.to_matrix(train_inp[batch_ix]).to(device)\n",
        "    batch_out = out_voc.to_matrix(train_out[batch_ix]).to(device)\n",
        "    \n",
        "    opt.zero_grad()\n",
        "    loss_t = compute_loss(model, batch_inp, batch_out)\n",
        "    loss_t.backward()\n",
        "    opt.step()\n",
        "\n",
        "    metrics['train_loss'].append((step, loss_t.item()))\n",
        "    \n",
        "    if step % 100 == 0:\n",
        "        metrics['dev_bleu'].append((step, compute_bleu(model, dev_inp, dev_out)))\n",
        "        \n",
        "        clear_output(True)\n",
        "        plt.figure(figsize=(12,4))\n",
        "        for i, (name, history) in enumerate(sorted(metrics.items())):\n",
        "            plt.subplot(1, len(metrics), i + 1)\n",
        "            plt.title(name)\n",
        "            plt.plot(*zip(*history))\n",
        "            plt.grid()\n",
        "        plt.show()\n",
        "        print(\"Mean loss=%.3f\" % np.mean(metrics['train_loss'][-10:], axis=0)[1], flush=True)"
      ],
      "execution_count": null,
      "outputs": [
        {
          "output_type": "display_data",
          "data": {
            "image/png": "[encoded data removed]",
            "text/plain": [
              "<Figure size 864x288 with 2 Axes>"
            ]
          },
          "metadata": {
            "needs_background": "light"
          }
        },
        {
          "output_type": "stream",
          "name": "stdout",
          "text": [
            "Mean loss=1.564\n"
          ]
        },
        {
          "output_type": "stream",
          "name": "stderr",
          "text": [
            "100%|██████████| 25000/25000 [1:14:14<00:00,  5.61it/s]\n"
          ]
        }
      ]
    },
    {
      "cell_type": "code",
      "metadata": {
        "id": "ww-X18TmemSf",
        "colab": {
          "base_uri": "https://localhost:8080/"
        },
        "outputId": "39174669-3118-4d6b-811d-e5cf0e8ff8bb"
      },
      "source": [
        "#<YOUR CODE: measure final BLEU>\n",
        "print(np.mean(metrics['dev_bleu'][-10:], axis=0)[1])\n",
        "for inp_line, trans_line in zip(dev_inp[::500], model.translate_lines(dev_inp[::500])[0]):\n",
        "    print(inp_line)\n",
        "    print(trans_line)\n",
        "    print()"
      ],
      "execution_count": null,
      "outputs": [
        {
          "output_type": "stream",
          "name": "stdout",
          "text": [
            "23.819072046682443\n",
            "в распоряжении гостей общая кухня и общая гостиная .\n",
            "there is a shared kitchen and a shared lounge .\n",
            "\n",
            "кроме того , предоставляется прокат велосипедов , услуги трансфера и бесплатная парковка .\n",
            "other services , bicycle rental and shuttle services are available .\n",
            "\n",
            "расстояние до города ки@@ сси@@ м@@ ми составляет 26 км .\n",
            "saf@@ ran@@ cho is 26 km away .\n",
            "\n",
            "апартаменты в пент@@ хаусе с общим открытым бассейном , садом , кондиционером и террасой для загара расположены в 5 минутах ходьбы от пляжа на курорте ка@@ бо - рой .\n",
            "featuring a pool and a sun terrace , villa ' s apartment is a self - catering accommodation with a swimming pool and a 5 - minute walk from the beach .\n",
            "\n",
            "апартаменты mo@@ s@@ co@@ w point - loft red square находятся в москве , в 200 метрах от большого театра .\n",
            "located 200 metres from the apartment and 3@@ m castle apartment in voro@@ nez@@ m , this apartment features accommodation in tbilisi .\n",
            "\n",
            "в вашем распоряжении собственная ванная комната с душем и полотенцами .\n",
            "featuring a shower , private bathroom also comes with towels .\n",
            "\n"
          ]
        }
      ]
    },
    {
      "cell_type": "markdown",
      "metadata": {
        "id": "zA3pFFI4emSf"
      },
      "source": [
        "### Visualizing model attention (2 points)\n",
        "\n",
        "After training the attentive translation model, you can check it's sanity by visualizing its attention weights.\n",
        "\n",
        "We provided you with a function that draws attention maps using [`Bokeh`](https://bokeh.pydata.org/en/latest/index.html). Once you managed to produce something better than random noise, please save at least 3 attention maps and __submit them to anytask__ alongside this notebook to get the max grade. Saving bokeh figures as __cell outputs is not enough!__ (TAs can't see saved bokeh figures in anytask). You can save bokeh images as screenshots or using this button:\n",
        "\n",
        "![bokeh_panel](https://github.com/yandexdataschool/nlp_course/raw/2019/resources/bokeh_panel.png)\n",
        "\n",
        "__Note:__ you're not locked into using bokeh. If you prefer a different visualization method, feel free to use that instead of bokeh."
      ]
    },
    {
      "cell_type": "code",
      "metadata": {
        "id": "_HEQ2siuemSg"
      },
      "source": [
        "import bokeh.plotting as pl\n",
        "import bokeh.models as bm\n",
        "from bokeh.io import output_notebook, show\n",
        "output_notebook()\n",
        "\n",
        "def draw_attention(inp_line, translation, probs):\n",
        "    \"\"\" An intentionally ambiguous function to visualize attention weights \"\"\"\n",
        "    inp_tokens = inp_voc.tokenize(inp_line)\n",
        "    trans_tokens = out_voc.tokenize(translation)\n",
        "    probs = probs[:len(trans_tokens), :len(inp_tokens)]\n",
        "    \n",
        "    fig = pl.figure(x_range=(0, len(inp_tokens)), y_range=(0, len(trans_tokens)),\n",
        "                    x_axis_type=None, y_axis_type=None, tools=[])\n",
        "    fig.image([probs[::-1]], 0, 0, len(inp_tokens), len(trans_tokens))\n",
        "\n",
        "    fig.add_layout(bm.LinearAxis(axis_label='source tokens'), 'above')\n",
        "    fig.xaxis.ticker = np.arange(len(inp_tokens)) + 0.5\n",
        "    fig.xaxis.major_label_overrides = dict(zip(np.arange(len(inp_tokens)) + 0.5, inp_tokens))\n",
        "    fig.xaxis.major_label_orientation = 45\n",
        "\n",
        "    fig.add_layout(bm.LinearAxis(axis_label='translation tokens'), 'left')\n",
        "    fig.yaxis.ticker = np.arange(len(trans_tokens)) + 0.5\n",
        "    fig.yaxis.major_label_overrides = dict(zip(np.arange(len(trans_tokens)) + 0.5, trans_tokens[::-1]))\n",
        "\n",
        "    show(fig)"
      ],
      "execution_count": null,
      "outputs": []
    },
    {
      "cell_type": "code",
      "metadata": {
        "id": "4czJpvWkemSg"
      },
      "source": [
        "inp = dev_inp[::500]\n",
        "\n",
        "trans, states = model.translate_lines(inp)\n",
        "# print(inp_voc.to_matrix(inp).shape)\n",
        "attn, probas = np.stack([state[-1] for state in states], axis=1)\n",
        "# print(probas[0])\n",
        "\n",
        "attention_probs = np.empty((probas[0].shape[0], len(probas), probas[1].shape[1]), dtype='float32')\n",
        "for output_ind in range(len(probas)):\n",
        "  for batch_ind in range(probas[output_ind].shape[0]):\n",
        "    for input_ind in range(probas[output_ind].shape[1]):\n",
        "      attention_probs[batch_ind][output_ind][input_ind] = probas[output_ind][batch_ind][input_ind]\n",
        "# [new_gru_state, enc_seq, mask, new_attn_probas]\n",
        "\n",
        "# select attention probs from model state (you may need to change this for your custom model)\n",
        "# attention_probs below must have shape [batch_size, translation_length, input_length], extracted from states\n",
        "# e.g. if attention probs are at the end of each state, use np.stack([state[-1] for state in states], axis=1)\n",
        "# attention_probs = <YOUR CODE>"
      ],
      "execution_count": null,
      "outputs": []
    },
    {
      "cell_type": "code",
      "metadata": {
        "id": "Ck7RRwKRemSh",
        "colab": {
          "base_uri": "https://localhost:8080/",
          "height": 1000
        },
        "outputId": "e1ef6427-cebc-4df8-aafa-e98962d14499"
      },
      "source": [
        "for i in range(5):\n",
        "    draw_attention(inp[i], trans[i], attention_probs[i])\n",
        "    \n",
        "# Does it look fine already? don't forget to save images for anytask!"
      ],
      "execution_count": null,
      "outputs": [
        {
          "output_type": "display_data",
          "data": {
            "application/javascript": [
              "\n",
              "(function(root) {\n",
              "  function now() {\n",
              "    return new Date();\n",
              "  }\n",
              "\n",
              "  var force = true;\n",
              "\n",
              "  if (typeof root._bokeh_onload_callbacks === \"undefined\" || force === true) {\n",
              "    root._bokeh_onload_callbacks = [];\n",
              "    root._bokeh_is_loading = undefined;\n",
              "  }\n",
              "\n",
              "  var JS_MIME_TYPE = 'application/javascript';\n",
              "  var HTML_MIME_TYPE = 'text/html';\n",
              "  var EXEC_MIME_TYPE = 'application/vnd.bokehjs_exec.v0+json';\n",
              "  var CLASS_NAME = 'output_bokeh rendered_html';\n",
              "\n",
              "  /**\n",
              "   * Render data to the DOM node\n",
              "   */\n",
              "  function render(props, node) {\n",
              "    var script = document.createElement(\"script\");\n",
              "    node.appendChild(script);\n",
              "  }\n",
              "\n",
              "  /**\n",
              "   * Handle when an output is cleared or removed\n",
              "   */\n",
              "  function handleClearOutput(event, handle) {\n",
              "    var cell = handle.cell;\n",
              "\n",
              "    var id = cell.output_area._bokeh_element_id;\n",
              "    var server_id = cell.output_area._bokeh_server_id;\n",
              "    // Clean up Bokeh references\n",
              "    if (id != null && id in Bokeh.index) {\n",
              "      Bokeh.index[id].model.document.clear();\n",
              "      delete Bokeh.index[id];\n",
              "    }\n",
              "\n",
              "    if (server_id !== undefined) {\n",
              "      // Clean up Bokeh references\n",
              "      var cmd = \"from bokeh.io.state import curstate; print(curstate().uuid_to_server['\" + server_id + \"'].get_sessions()[0].document.roots[0]._id)\";\n",
              "      cell.notebook.kernel.execute(cmd, {\n",
              "        iopub: {\n",
              "          output: function(msg) {\n",
              "            var id = msg.content.text.trim();\n",
              "            if (id in Bokeh.index) {\n",
              "              Bokeh.index[id].model.document.clear();\n",
              "              delete Bokeh.index[id];\n",
              "            }\n",
              "          }\n",
              "        }\n",
              "      });\n",
              "      // Destroy server and session\n",
              "      var cmd = \"import bokeh.io.notebook as ion; ion.destroy_server('\" + server_id + \"')\";\n",
              "      cell.notebook.kernel.execute(cmd);\n",
              "    }\n",
              "  }\n",
              "\n",
              "  /**\n",
              "   * Handle when a new output is added\n",
              "   */\n",
              "  function handleAddOutput(event, handle) {\n",
              "    var output_area = handle.output_area;\n",
              "    var output = handle.output;\n",
              "\n",
              "    // limit handleAddOutput to display_data with EXEC_MIME_TYPE content only\n",
              "    if ((output.output_type != \"display_data\") || (!Object.prototype.hasOwnProperty.call(output.data, EXEC_MIME_TYPE))) {\n",
              "      return\n",
              "    }\n",
              "\n",
              "    var toinsert = output_area.element.find(\".\" + CLASS_NAME.split(' ')[0]);\n",
              "\n",
              "    if (output.metadata[EXEC_MIME_TYPE][\"id\"] !== undefined) {\n",
              "      toinsert[toinsert.length - 1].firstChild.textContent = output.data[JS_MIME_TYPE];\n",
              "      // store reference to embed id on output_area\n",
              "      output_area._bokeh_element_id = output.metadata[EXEC_MIME_TYPE][\"id\"];\n",
              "    }\n",
              "    if (output.metadata[EXEC_MIME_TYPE][\"server_id\"] !== undefined) {\n",
              "      var bk_div = document.createElement(\"div\");\n",
              "      bk_div.innerHTML = output.data[HTML_MIME_TYPE];\n",
              "      var script_attrs = bk_div.children[0].attributes;\n",
              "      for (var i = 0; i < script_attrs.length; i++) {\n",
              "        toinsert[toinsert.length - 1].firstChild.setAttribute(script_attrs[i].name, script_attrs[i].value);\n",
              "        toinsert[toinsert.length - 1].firstChild.textContent = bk_div.children[0].textContent\n",
              "      }\n",
              "      // store reference to server id on output_area\n",
              "      output_area._bokeh_server_id = output.metadata[EXEC_MIME_TYPE][\"server_id\"];\n",
              "    }\n",
              "  }\n",
              "\n",
              "  function register_renderer(events, OutputArea) {\n",
              "\n",
              "    function append_mime(data, metadata, element) {\n",
              "      // create a DOM node to render to\n",
              "      var toinsert = this.create_output_subarea(\n",
              "        metadata,\n",
              "        CLASS_NAME,\n",
              "        EXEC_MIME_TYPE\n",
              "      );\n",
              "      this.keyboard_manager.register_events(toinsert);\n",
              "      // Render to node\n",
              "      var props = {data: data, metadata: metadata[EXEC_MIME_TYPE]};\n",
              "      render(props, toinsert[toinsert.length - 1]);\n",
              "      element.append(toinsert);\n",
              "      return toinsert\n",
              "    }\n",
              "\n",
              "    /* Handle when an output is cleared or removed */\n",
              "    events.on('clear_output.CodeCell', handleClearOutput);\n",
              "    events.on('delete.Cell', handleClearOutput);\n",
              "\n",
              "    /* Handle when a new output is added */\n",
              "    events.on('output_added.OutputArea', handleAddOutput);\n",
              "\n",
              "    /**\n",
              "     * Register the mime type and append_mime function with output_area\n",
              "     */\n",
              "    OutputArea.prototype.register_mime_type(EXEC_MIME_TYPE, append_mime, {\n",
              "      /* Is output safe? */\n",
              "      safe: true,\n",
              "      /* Index of renderer in `output_area.display_order` */\n",
              "      index: 0\n",
              "    });\n",
              "  }\n",
              "\n",
              "  // register the mime type if in Jupyter Notebook environment and previously unregistered\n",
              "  if (root.Jupyter !== undefined) {\n",
              "    var events = require('base/js/events');\n",
              "    var OutputArea = require('notebook/js/outputarea').OutputArea;\n",
              "\n",
              "    if (OutputArea.prototype.mime_types().indexOf(EXEC_MIME_TYPE) == -1) {\n",
              "      register_renderer(events, OutputArea);\n",
              "    }\n",
              "  }\n",
              "\n",
              "  \n",
              "  if (typeof (root._bokeh_timeout) === \"undefined\" || force === true) {\n",
              "    root._bokeh_timeout = Date.now() + 5000;\n",
              "    root._bokeh_failed_load = false;\n",
              "  }\n",
              "\n",
              "  var NB_LOAD_WARNING = {'data': {'text/html':\n",
              "     \"<div style='background-color: #fdd'>\\n\"+\n",
              "     \"<p>\\n\"+\n",
              "     \"BokehJS does not appear to have successfully loaded. If loading BokehJS from CDN, this \\n\"+\n",
              "     \"may be due to a slow or bad network connection. Possible fixes:\\n\"+\n",
              "     \"</p>\\n\"+\n",
              "     \"<ul>\\n\"+\n",
              "     \"<li>re-rerun `output_notebook()` to attempt to load from CDN again, or</li>\\n\"+\n",
              "     \"<li>use INLINE resources instead, as so:</li>\\n\"+\n",
              "     \"</ul>\\n\"+\n",
              "     \"<code>\\n\"+\n",
              "     \"from bokeh.resources import INLINE\\n\"+\n",
              "     \"output_notebook(resources=INLINE)\\n\"+\n",
              "     \"</code>\\n\"+\n",
              "     \"</div>\"}};\n",
              "\n",
              "  function display_loaded() {\n",
              "    var el = document.getElementById(null);\n",
              "    if (el != null) {\n",
              "      el.textContent = \"BokehJS is loading...\";\n",
              "    }\n",
              "    if (root.Bokeh !== undefined) {\n",
              "      if (el != null) {\n",
              "        el.textContent = \"BokehJS \" + root.Bokeh.version + \" successfully loaded.\";\n",
              "      }\n",
              "    } else if (Date.now() < root._bokeh_timeout) {\n",
              "      setTimeout(display_loaded, 100)\n",
              "    }\n",
              "  }\n",
              "\n",
              "\n",
              "  function run_callbacks() {\n",
              "    try {\n",
              "      root._bokeh_onload_callbacks.forEach(function(callback) {\n",
              "        if (callback != null)\n",
              "          callback();\n",
              "      });\n",
              "    } finally {\n",
              "      delete root._bokeh_onload_callbacks\n",
              "    }\n",
              "    console.debug(\"Bokeh: all callbacks have finished\");\n",
              "  }\n",
              "\n",
              "  function load_libs(css_urls, js_urls, callback) {\n",
              "    if (css_urls == null) css_urls = [];\n",
              "    if (js_urls == null) js_urls = [];\n",
              "\n",
              "    root._bokeh_onload_callbacks.push(callback);\n",
              "    if (root._bokeh_is_loading > 0) {\n",
              "      console.debug(\"Bokeh: BokehJS is being loaded, scheduling callback at\", now());\n",
              "      return null;\n",
              "    }\n",
              "    if (js_urls == null || js_urls.length === 0) {\n",
              "      run_callbacks();\n",
              "      return null;\n",
              "    }\n",
              "    console.debug(\"Bokeh: BokehJS not loaded, scheduling load and callback at\", now());\n",
              "    root._bokeh_is_loading = css_urls.length + js_urls.length;\n",
              "\n",
              "    function on_load() {\n",
              "      root._bokeh_is_loading--;\n",
              "      if (root._bokeh_is_loading === 0) {\n",
              "        console.debug(\"Bokeh: all BokehJS libraries/stylesheets loaded\");\n",
              "        run_callbacks()\n",
              "      }\n",
              "    }\n",
              "\n",
              "    function on_error(url) {\n",
              "      console.error(\"failed to load \" + url);\n",
              "    }\n",
              "\n",
              "    for (let i = 0; i < css_urls.length; i++) {\n",
              "      const url = css_urls[i];\n",
              "      const element = document.createElement(\"link\");\n",
              "      element.onload = on_load;\n",
              "      element.onerror = on_error.bind(null, url);\n",
              "      element.rel = \"stylesheet\";\n",
              "      element.type = \"text/css\";\n",
              "      element.href = url;\n",
              "      console.debug(\"Bokeh: injecting link tag for BokehJS stylesheet: \", url);\n",
              "      document.body.appendChild(element);\n",
              "    }\n",
              "\n",
              "    const hashes = {\"https://cdn.bokeh.org/bokeh/release/bokeh-2.3.3.min.js\": \"dM3QQsP+wXdHg42wTqW85BjZQdLNNIXqlPw/BgKoExPmTG7ZLML4EGqLMfqHT6ON\", \"https://cdn.bokeh.org/bokeh/release/bokeh-tables-2.3.3.min.js\": \"8x57I4YuIfu8XyZfFo0XVr2WAT8EK4rh/uDe3wF7YuW2FNUSNEpJbsPaB1nJ2fz2\", \"https://cdn.bokeh.org/bokeh/release/bokeh-widgets-2.3.3.min.js\": \"3QTqdz9LyAm2i0sG5XTePsHec3UHWwVsrOL68SYRoAXsafvfAyqtQ+h440+qIBhS\"};\n",
              "\n",
              "    for (let i = 0; i < js_urls.length; i++) {\n",
              "      const url = js_urls[i];\n",
              "      const element = document.createElement('script');\n",
              "      element.onload = on_load;\n",
              "      element.onerror = on_error.bind(null, url);\n",
              "      element.async = false;\n",
              "      element.src = url;\n",
              "      if (url in hashes) {\n",
              "        element.crossOrigin = \"anonymous\";\n",
              "        element.integrity = \"sha384-\" + hashes[url];\n",
              "      }\n",
              "      console.debug(\"Bokeh: injecting script tag for BokehJS library: \", url);\n",
              "      document.head.appendChild(element);\n",
              "    }\n",
              "  };\n",
              "\n",
              "  function inject_raw_css(css) {\n",
              "    const element = document.createElement(\"style\");\n",
              "    element.appendChild(document.createTextNode(css));\n",
              "    document.body.appendChild(element);\n",
              "  }\n",
              "\n",
              "  \n",
              "  var js_urls = [\"https://cdn.bokeh.org/bokeh/release/bokeh-2.3.3.min.js\", \"https://cdn.bokeh.org/bokeh/release/bokeh-widgets-2.3.3.min.js\", \"https://cdn.bokeh.org/bokeh/release/bokeh-tables-2.3.3.min.js\"];\n",
              "  var css_urls = [];\n",
              "  \n",
              "\n",
              "  var inline_js = [\n",
              "    function(Bokeh) {\n",
              "      Bokeh.set_log_level(\"info\");\n",
              "    },\n",
              "    function(Bokeh) {\n",
              "    \n",
              "    \n",
              "    }\n",
              "  ];\n",
              "\n",
              "  function run_inline_js() {\n",
              "    \n",
              "    if (root.Bokeh !== undefined || force === true) {\n",
              "      \n",
              "    for (var i = 0; i < inline_js.length; i++) {\n",
              "      inline_js[i].call(root, root.Bokeh);\n",
              "    }\n",
              "    } else if (Date.now() < root._bokeh_timeout) {\n",
              "      setTimeout(run_inline_js, 100);\n",
              "    } else if (!root._bokeh_failed_load) {\n",
              "      console.log(\"Bokeh: BokehJS failed to load within specified timeout.\");\n",
              "      root._bokeh_failed_load = true;\n",
              "    } else if (force !== true) {\n",
              "      var cell = $(document.getElementById(null)).parents('.cell').data().cell;\n",
              "      cell.output_area.append_execute_result(NB_LOAD_WARNING)\n",
              "    }\n",
              "\n",
              "  }\n",
              "\n",
              "  if (root._bokeh_is_loading === 0) {\n",
              "    console.debug(\"Bokeh: BokehJS loaded, going straight to plotting\");\n",
              "    run_inline_js();\n",
              "  } else {\n",
              "    load_libs(css_urls, js_urls, function() {\n",
              "      console.debug(\"Bokeh: BokehJS plotting callback run at\", now());\n",
              "      run_inline_js();\n",
              "    });\n",
              "  }\n",
              "}(window));"
            ],
            "application/vnd.bokehjs_load.v0+json": "\n(function(root) {\n  function now() {\n    return new Date();\n  }\n\n  var force = true;\n\n  if (typeof root._bokeh_onload_callbacks === \"undefined\" || force === true) {\n    root._bokeh_onload_callbacks = [];\n    root._bokeh_is_loading = undefined;\n  }\n\n  \n\n  \n  if (typeof (root._bokeh_timeout) === \"undefined\" || force === true) {\n    root._bokeh_timeout = Date.now() + 5000;\n    root._bokeh_failed_load = false;\n  }\n\n  var NB_LOAD_WARNING = {'data': {'text/html':\n     \"<div style='background-color: #fdd'>\\n\"+\n     \"<p>\\n\"+\n     \"BokehJS does not appear to have successfully loaded. If loading BokehJS from CDN, this \\n\"+\n     \"may be due to a slow or bad network connection. Possible fixes:\\n\"+\n     \"</p>\\n\"+\n     \"<ul>\\n\"+\n     \"<li>re-rerun `output_notebook()` to attempt to load from CDN again, or</li>\\n\"+\n     \"<li>use INLINE resources instead, as so:</li>\\n\"+\n     \"</ul>\\n\"+\n     \"<code>\\n\"+\n     \"from bokeh.resources import INLINE\\n\"+\n     \"output_notebook(resources=INLINE)\\n\"+\n     \"</code>\\n\"+\n     \"</div>\"}};\n\n  function display_loaded() {\n    var el = document.getElementById(null);\n    if (el != null) {\n      el.textContent = \"BokehJS is loading...\";\n    }\n    if (root.Bokeh !== undefined) {\n      if (el != null) {\n        el.textContent = \"BokehJS \" + root.Bokeh.version + \" successfully loaded.\";\n      }\n    } else if (Date.now() < root._bokeh_timeout) {\n      setTimeout(display_loaded, 100)\n    }\n  }\n\n\n  function run_callbacks() {\n    try {\n      root._bokeh_onload_callbacks.forEach(function(callback) {\n        if (callback != null)\n          callback();\n      });\n    } finally {\n      delete root._bokeh_onload_callbacks\n    }\n    console.debug(\"Bokeh: all callbacks have finished\");\n  }\n\n  function load_libs(css_urls, js_urls, callback) {\n    if (css_urls == null) css_urls = [];\n    if (js_urls == null) js_urls = [];\n\n    root._bokeh_onload_callbacks.push(callback);\n    if (root._bokeh_is_loading > 0) {\n      console.debug(\"Bokeh: BokehJS is being loaded, scheduling callback at\", now());\n      return null;\n    }\n    if (js_urls == null || js_urls.length === 0) {\n      run_callbacks();\n      return null;\n    }\n    console.debug(\"Bokeh: BokehJS not loaded, scheduling load and callback at\", now());\n    root._bokeh_is_loading = css_urls.length + js_urls.length;\n\n    function on_load() {\n      root._bokeh_is_loading--;\n      if (root._bokeh_is_loading === 0) {\n        console.debug(\"Bokeh: all BokehJS libraries/stylesheets loaded\");\n        run_callbacks()\n      }\n    }\n\n    function on_error(url) {\n      console.error(\"failed to load \" + url);\n    }\n\n    for (let i = 0; i < css_urls.length; i++) {\n      const url = css_urls[i];\n      const element = document.createElement(\"link\");\n      element.onload = on_load;\n      element.onerror = on_error.bind(null, url);\n      element.rel = \"stylesheet\";\n      element.type = \"text/css\";\n      element.href = url;\n      console.debug(\"Bokeh: injecting link tag for BokehJS stylesheet: \", url);\n      document.body.appendChild(element);\n    }\n\n    const hashes = {\"https://cdn.bokeh.org/bokeh/release/bokeh-2.3.3.min.js\": \"dM3QQsP+wXdHg42wTqW85BjZQdLNNIXqlPw/BgKoExPmTG7ZLML4EGqLMfqHT6ON\", \"https://cdn.bokeh.org/bokeh/release/bokeh-tables-2.3.3.min.js\": \"8x57I4YuIfu8XyZfFo0XVr2WAT8EK4rh/uDe3wF7YuW2FNUSNEpJbsPaB1nJ2fz2\", \"https://cdn.bokeh.org/bokeh/release/bokeh-widgets-2.3.3.min.js\": \"3QTqdz9LyAm2i0sG5XTePsHec3UHWwVsrOL68SYRoAXsafvfAyqtQ+h440+qIBhS\"};\n\n    for (let i = 0; i < js_urls.length; i++) {\n      const url = js_urls[i];\n      const element = document.createElement('script');\n      element.onload = on_load;\n      element.onerror = on_error.bind(null, url);\n      element.async = false;\n      element.src = url;\n      if (url in hashes) {\n        element.crossOrigin = \"anonymous\";\n        element.integrity = \"sha384-\" + hashes[url];\n      }\n      console.debug(\"Bokeh: injecting script tag for BokehJS library: \", url);\n      document.head.appendChild(element);\n    }\n  };\n\n  function inject_raw_css(css) {\n    const element = document.createElement(\"style\");\n    element.appendChild(document.createTextNode(css));\n    document.body.appendChild(element);\n  }\n\n  \n  var js_urls = [\"https://cdn.bokeh.org/bokeh/release/bokeh-2.3.3.min.js\", \"https://cdn.bokeh.org/bokeh/release/bokeh-widgets-2.3.3.min.js\", \"https://cdn.bokeh.org/bokeh/release/bokeh-tables-2.3.3.min.js\"];\n  var css_urls = [];\n  \n\n  var inline_js = [\n    function(Bokeh) {\n      Bokeh.set_log_level(\"info\");\n    },\n    function(Bokeh) {\n    \n    \n    }\n  ];\n\n  function run_inline_js() {\n    \n    if (root.Bokeh !== undefined || force === true) {\n      \n    for (var i = 0; i < inline_js.length; i++) {\n      inline_js[i].call(root, root.Bokeh);\n    }\n    } else if (Date.now() < root._bokeh_timeout) {\n      setTimeout(run_inline_js, 100);\n    } else if (!root._bokeh_failed_load) {\n      console.log(\"Bokeh: BokehJS failed to load within specified timeout.\");\n      root._bokeh_failed_load = true;\n    } else if (force !== true) {\n      var cell = $(document.getElementById(null)).parents('.cell').data().cell;\n      cell.output_area.append_execute_result(NB_LOAD_WARNING)\n    }\n\n  }\n\n  if (root._bokeh_is_loading === 0) {\n    console.debug(\"Bokeh: BokehJS loaded, going straight to plotting\");\n    run_inline_js();\n  } else {\n    load_libs(css_urls, js_urls, function() {\n      console.debug(\"Bokeh: BokehJS plotting callback run at\", now());\n      run_inline_js();\n    });\n  }\n}(window));"
          },
          "metadata": {}
        },
        {
          "output_type": "display_data",
          "data": {
            "text/html": [
              "\n",
              "\n",
              "\n",
              "\n",
              "\n",
              "\n",
              "  <div class=\"bk-root\" id=\"6f183bf1-adeb-4ab3-8063-9ae90da2ef19\" data-root-id=\"1002\"></div>\n"
            ]
          },
          "metadata": {}
        },
        {
          "output_type": "display_data",
          "data": {
            "application/javascript": [
              "(function(root) {\n",
              "  function embed_document(root) {\n",
              "    \n",
              "  var docs_json = {\"9ed4a183-1312-4794-af41-4d52d7f8550e\":{\"defs\":[],\"roots\":{\"references\":[{\"attributes\":{\"above\":[{\"id\":\"1021\"}],\"left\":[{\"id\":\"1024\"}],\"renderers\":[{\"id\":\"1019\"}],\"title\":{\"id\":\"1028\"},\"toolbar\":{\"id\":\"1011\"},\"x_range\":{\"id\":\"1003\"},\"x_scale\":{\"id\":\"1007\"},\"y_range\":{\"id\":\"1005\"},\"y_scale\":{\"id\":\"1009\"}},\"id\":\"1002\",\"subtype\":\"Figure\",\"type\":\"Plot\"},{\"attributes\":{},\"id\":\"1029\",\"type\":\"BasicTickFormatter\"},{\"attributes\":{},\"id\":\"1033\",\"type\":\"UnionRenderers\"},{\"attributes\":{},\"id\":\"1009\",\"type\":\"LinearScale\"},{\"attributes\":{\"ticks\":[0.5,1.5,2.5,3.5,4.5,5.5,6.5,7.5,8.5,9.5,10.5]},\"id\":\"1022\",\"type\":\"FixedTicker\"},{\"attributes\":{},\"id\":\"1031\",\"type\":\"BasicTickFormatter\"},{\"attributes\":{\"palette\":[\"#000000\",\"#252525\",\"#525252\",\"#737373\",\"#969696\",\"#bdbdbd\",\"#d9d9d9\",\"#f0f0f0\",\"#ffffff\"]},\"id\":\"1014\",\"type\":\"LinearColorMapper\"},{\"attributes\":{\"end\":11},\"id\":\"1003\",\"type\":\"Range1d\"},{\"attributes\":{},\"id\":\"1032\",\"type\":\"AllLabels\"},{\"attributes\":{},\"id\":\"1030\",\"type\":\"AllLabels\"},{\"attributes\":{\"data_source\":{\"id\":\"1012\"},\"glyph\":{\"id\":\"1013\"},\"hover_glyph\":null,\"muted_glyph\":null,\"nonselection_glyph\":{\"id\":\"1016\"},\"view\":{\"id\":\"1020\"}},\"id\":\"1019\",\"type\":\"GlyphRenderer\"},{\"attributes\":{\"active_multi\":null},\"id\":\"1011\",\"type\":\"Toolbar\"},{\"attributes\":{\"palette\":[\"#000000\",\"#252525\",\"#525252\",\"#737373\",\"#969696\",\"#bdbdbd\",\"#d9d9d9\",\"#f0f0f0\",\"#ffffff\"]},\"id\":\"1017\",\"type\":\"LinearColorMapper\"},{\"attributes\":{\"axis_label\":\"translation tokens\",\"formatter\":{\"id\":\"1031\"},\"major_label_overrides\":{\"0.5\":\"_EOS_\",\"1.5\":\".\",\"10.5\":\"there\",\"11.5\":\"_BOS_\",\"2.5\":\"lounge\",\"3.5\":\"shared\",\"4.5\":\"a\",\"5.5\":\"and\",\"6.5\":\"kitchen\",\"7.5\":\"shared\",\"8.5\":\"a\",\"9.5\":\"is\"},\"major_label_policy\":{\"id\":\"1032\"},\"ticker\":{\"id\":\"1025\"}},\"id\":\"1024\",\"type\":\"LinearAxis\"},{\"attributes\":{\"data\":{\"image\":[{\"__ndarray__\":\"fgRlO07vmDmkwho6K0tLOkykHDs8CGk7qiNhPJumkT1sJjQ+G4yfPkY/1T6sBEA+XSzBPFexbjx4FYU8jrVzOy/dGTzRUhc8Z0brO/7zAz2ZdAM/lzw7PgyVZjgI34Q4fFqmN0/jpzfw8pI3kK4hOCxQKDie58c6qTsZPuCbED8sQZE+GQyvOIMftDfSJAs498y3OE0JPzhUf/05mgm/OtajbTuOXkk+VhwhPqfiIz/20S46f/BoOdyD1Ti/k5w5+LC8OcyNzzqmMPE69gPYPO4IJT/zV0M+/lEIPiA9mDuuQ7A6zGfYO8FKZjszRKI7n9UHPHniTT1nLHk+ianbPnrwGD4qEso9PNQGPEM1NTswpzk8DYE7OwnQQjzqYs89sp2oPrYPFT3DSM0+7jxrPaHbGT2ST746t5XaOhhgADyBzQA72vT/PNDI5j5/xc8+0VorO3ehnz1NKLE7oSVaPIfJcztGOic7VxjYPIUUZjxwnao+IU/tPi3B/j247do6OiLAPDH2jTvJBDM7uW3LO6yR2js+urI8uqEaPCk3Mj6qVsk+4T1XPiozZT3ttZI9aDEQPaWCfzw1rtg7frI1PJR2Iz1LfVQ9STucPgBwYj5PRlc+zujWPT/yBz2ADkc8Dex0OxMD9DwDacM891ZOPWOjLz6kyVs+DjkEPtEoUD7v+vw9x9kJPTNMKDwVUyM8\",\"dtype\":\"float32\",\"order\":\"little\",\"shape\":[12,11]}]},\"selected\":{\"id\":\"1034\"},\"selection_policy\":{\"id\":\"1033\"}},\"id\":\"1012\",\"type\":\"ColumnDataSource\"},{\"attributes\":{\"end\":12},\"id\":\"1005\",\"type\":\"Range1d\"},{\"attributes\":{\"ticks\":[0.5,1.5,2.5,3.5,4.5,5.5,6.5,7.5,8.5,9.5,10.5,11.5]},\"id\":\"1025\",\"type\":\"FixedTicker\"},{\"attributes\":{},\"id\":\"1028\",\"type\":\"Title\"},{\"attributes\":{\"source\":{\"id\":\"1012\"}},\"id\":\"1020\",\"type\":\"CDSView\"},{\"attributes\":{\"axis_label\":\"source tokens\",\"formatter\":{\"id\":\"1029\"},\"major_label_orientation\":45,\"major_label_overrides\":{\"0.5\":\"_BOS_\",\"1.5\":\"\\u0432\",\"10.5\":\"_EOS_\",\"2.5\":\"\\u0440\\u0430\\u0441\\u043f\\u043e\\u0440\\u044f\\u0436\\u0435\\u043d\\u0438\\u0438\",\"3.5\":\"\\u0433\\u043e\\u0441\\u0442\\u0435\\u0439\",\"4.5\":\"\\u043e\\u0431\\u0449\\u0430\\u044f\",\"5.5\":\"\\u043a\\u0443\\u0445\\u043d\\u044f\",\"6.5\":\"\\u0438\",\"7.5\":\"\\u043e\\u0431\\u0449\\u0430\\u044f\",\"8.5\":\"\\u0433\\u043e\\u0441\\u0442\\u0438\\u043d\\u0430\\u044f\",\"9.5\":\".\"},\"major_label_policy\":{\"id\":\"1030\"},\"ticker\":{\"id\":\"1022\"}},\"id\":\"1021\",\"type\":\"LinearAxis\"},{\"attributes\":{},\"id\":\"1007\",\"type\":\"LinearScale\"},{\"attributes\":{\"color_mapper\":{\"id\":\"1017\"},\"dh\":{\"value\":12},\"dw\":{\"value\":11},\"global_alpha\":0.1,\"image\":{\"field\":\"image\"},\"x\":{\"value\":0},\"y\":{\"value\":0}},\"id\":\"1016\",\"type\":\"Image\"},{\"attributes\":{},\"id\":\"1034\",\"type\":\"Selection\"},{\"attributes\":{\"color_mapper\":{\"id\":\"1014\"},\"dh\":{\"value\":12},\"dw\":{\"value\":11},\"image\":{\"field\":\"image\"},\"x\":{\"value\":0},\"y\":{\"value\":0}},\"id\":\"1013\",\"type\":\"Image\"}],\"root_ids\":[\"1002\"]},\"title\":\"Bokeh Application\",\"version\":\"2.3.3\"}};\n",
              "  var render_items = [{\"docid\":\"9ed4a183-1312-4794-af41-4d52d7f8550e\",\"root_ids\":[\"1002\"],\"roots\":{\"1002\":\"6f183bf1-adeb-4ab3-8063-9ae90da2ef19\"}}];\n",
              "  root.Bokeh.embed.embed_items_notebook(docs_json, render_items);\n",
              "\n",
              "  }\n",
              "  if (root.Bokeh !== undefined) {\n",
              "    embed_document(root);\n",
              "  } else {\n",
              "    var attempts = 0;\n",
              "    var timer = setInterval(function(root) {\n",
              "      if (root.Bokeh !== undefined) {\n",
              "        clearInterval(timer);\n",
              "        embed_document(root);\n",
              "      } else {\n",
              "        attempts++;\n",
              "        if (attempts > 100) {\n",
              "          clearInterval(timer);\n",
              "          console.log(\"Bokeh: ERROR: Unable to run BokehJS code because BokehJS library is missing\");\n",
              "        }\n",
              "      }\n",
              "    }, 10, root)\n",
              "  }\n",
              "})(window);"
            ],
            "application/vnd.bokehjs_exec.v0+json": ""
          },
          "metadata": {
            "application/vnd.bokehjs_exec.v0+json": {
              "id": "1002"
            }
          }
        },
        {
          "output_type": "display_data",
          "data": {
            "text/html": [
              "\n",
              "\n",
              "\n",
              "\n",
              "\n",
              "\n",
              "  <div class=\"bk-root\" id=\"631a719f-cc4b-48c6-855b-74d6694d7a28\" data-root-id=\"1075\"></div>\n"
            ]
          },
          "metadata": {}
        },
        {
          "output_type": "display_data",
          "data": {
            "application/javascript": [
              "(function(root) {\n",
              "  function embed_document(root) {\n",
              "    \n",
              "  var docs_json = {\"38097865-fe02-4c35-8215-be87bea2872a\":{\"defs\":[],\"roots\":{\"references\":[{\"attributes\":{\"above\":[{\"id\":\"1094\"}],\"left\":[{\"id\":\"1097\"}],\"renderers\":[{\"id\":\"1092\"}],\"title\":{\"id\":\"1109\"},\"toolbar\":{\"id\":\"1084\"},\"x_range\":{\"id\":\"1076\"},\"x_scale\":{\"id\":\"1080\"},\"y_range\":{\"id\":\"1078\"},\"y_scale\":{\"id\":\"1082\"}},\"id\":\"1075\",\"subtype\":\"Figure\",\"type\":\"Plot\"},{\"attributes\":{\"axis_label\":\"source tokens\",\"formatter\":{\"id\":\"1110\"},\"major_label_orientation\":45,\"major_label_overrides\":{\"0.5\":\"_BOS_\",\"1.5\":\"\\u043a\\u0440\\u043e\\u043c\\u0435\",\"10.5\":\"\\u0438\",\"11.5\":\"\\u0431\\u0435\\u0441\\u043f\\u043b\\u0430\\u0442\\u043d\\u0430\\u044f\",\"12.5\":\"\\u043f\\u0430\\u0440\\u043a\\u043e\\u0432\\u043a\\u0430\",\"13.5\":\".\",\"14.5\":\"_EOS_\",\"2.5\":\"\\u0442\\u043e\\u0433\\u043e\",\"3.5\":\",\",\"4.5\":\"\\u043f\\u0440\\u0435\\u0434\\u043e\\u0441\\u0442\\u0430\\u0432\\u043b\\u044f\\u0435\\u0442\\u0441\\u044f\",\"5.5\":\"\\u043f\\u0440\\u043e\\u043a\\u0430\\u0442\",\"6.5\":\"\\u0432\\u0435\\u043b\\u043e\\u0441\\u0438\\u043f\\u0435\\u0434\\u043e\\u0432\",\"7.5\":\",\",\"8.5\":\"\\u0443\\u0441\\u043b\\u0443\\u0433\\u0438\",\"9.5\":\"\\u0442\\u0440\\u0430\\u043d\\u0441\\u0444\\u0435\\u0440\\u0430\"},\"major_label_policy\":{\"id\":\"1111\"},\"ticker\":{\"id\":\"1095\"}},\"id\":\"1094\",\"type\":\"LinearAxis\"},{\"attributes\":{\"end\":15},\"id\":\"1076\",\"type\":\"Range1d\"},{\"attributes\":{\"source\":{\"id\":\"1085\"}},\"id\":\"1093\",\"type\":\"CDSView\"},{\"attributes\":{\"data\":{\"image\":[{\"__ndarray__\":\"9LpsO8iR3johHxY6l3JGOue1bTpdOMk6IDRbOhDvBzqfTKA5FfskOrCx9DkGTT49QdMNPpj5iz65oQc/2YYaPlCkIz2+hAY9tPvXPJhxGT1LaEA8iTAPO3cl1Tqtq/46rI4ZO2CExztZxRU9wMVxPuxRuD5Pq1w9X173PevKjT7ImZM96Z/iPAvZiT5twCM81jzpOveYBjrrVlk6RqaMOnKFqDtO0N473VWiPXEi5D17S4c8IjY/PsVSUD3geXI9QAf7PeVv6j0Dm/A8XFrTPFC1LDyNL4M8+9pGPM7Zdzzm8Ec9o3K9PTudKD6AtFE9O4P0O3UA3jpW8PI6ZYm+O+4SkDueXyU7uJzBO5zGczukgdo7cM5TPPwjfTxZJCU+SsWBPrzNoj4Spks+FXgROq/gXjlJ10s5kqfuORuTHDuIM0w7e0KAO0s1jDs3icY8w5KbPeZhEz70cA8+3poUPnMDgz6Idkw+6xRjPFt5FTtwex472IFfOxz2OTsU0xo7klnyOyMfbzzauyQ9l/aRPp0WzT65XKI9aq2bPZo5TT0EYaA8iY4HO+URsjlMf8s5bZBzOji6oTu800k8pEaqPU4nFD7sg9Y9jDKYPc7AAj/ZvWs8vHZyPI9sjzz2pnA8vCRkOp0rzjhQHBI5WOjLOj257js3PYY74pQoPJa8QTz0SOk8NTNWPgqnIj/Ivb88evqpPAzG1TxYhag8O7nXO6p98jtPyPs7AUqJPEJ94zyPlOw8P+xcPiruhj7IfM89IMauPRCgQj5cro88sE+RPEn48ztLXss7UhkpPGaLPDzhrT880adRPQ+5OT21YQk9KFrcPYN9Wz5qsEw9IISZPWhnoj56ycg8neDvPHDdOzyw8Oc7cnmUOjVEzDnj8xg621LGOvAjlzvVUl49dFuwPYzIvD0Vty89qDDWPMO/Hj/5WjQ83xBDPdt8BDx0uFk79JSWOpd/hzpESFc7APUbPPxayjySX989qEpvPksL1T4uErA9SXGAPIURtD10J7I6ie37O98bEjuW0R46\",\"dtype\":\"float32\",\"order\":\"little\",\"shape\":[13,15]}]},\"selected\":{\"id\":\"1115\"},\"selection_policy\":{\"id\":\"1114\"}},\"id\":\"1085\",\"type\":\"ColumnDataSource\"},{\"attributes\":{\"palette\":[\"#000000\",\"#252525\",\"#525252\",\"#737373\",\"#969696\",\"#bdbdbd\",\"#d9d9d9\",\"#f0f0f0\",\"#ffffff\"]},\"id\":\"1090\",\"type\":\"LinearColorMapper\"},{\"attributes\":{\"active_multi\":null},\"id\":\"1084\",\"type\":\"Toolbar\"},{\"attributes\":{\"data_source\":{\"id\":\"1085\"},\"glyph\":{\"id\":\"1086\"},\"hover_glyph\":null,\"muted_glyph\":null,\"nonselection_glyph\":{\"id\":\"1089\"},\"view\":{\"id\":\"1093\"}},\"id\":\"1092\",\"type\":\"GlyphRenderer\"},{\"attributes\":{},\"id\":\"1082\",\"type\":\"LinearScale\"},{\"attributes\":{\"ticks\":[0.5,1.5,2.5,3.5,4.5,5.5,6.5,7.5,8.5,9.5,10.5,11.5,12.5]},\"id\":\"1098\",\"type\":\"FixedTicker\"},{\"attributes\":{},\"id\":\"1114\",\"type\":\"UnionRenderers\"},{\"attributes\":{},\"id\":\"1115\",\"type\":\"Selection\"},{\"attributes\":{},\"id\":\"1109\",\"type\":\"Title\"},{\"attributes\":{},\"id\":\"1080\",\"type\":\"LinearScale\"},{\"attributes\":{\"color_mapper\":{\"id\":\"1090\"},\"dh\":{\"value\":13},\"dw\":{\"value\":15},\"global_alpha\":0.1,\"image\":{\"field\":\"image\"},\"x\":{\"value\":0},\"y\":{\"value\":0}},\"id\":\"1089\",\"type\":\"Image\"},{\"attributes\":{\"palette\":[\"#000000\",\"#252525\",\"#525252\",\"#737373\",\"#969696\",\"#bdbdbd\",\"#d9d9d9\",\"#f0f0f0\",\"#ffffff\"]},\"id\":\"1087\",\"type\":\"LinearColorMapper\"},{\"attributes\":{},\"id\":\"1111\",\"type\":\"AllLabels\"},{\"attributes\":{},\"id\":\"1112\",\"type\":\"BasicTickFormatter\"},{\"attributes\":{\"end\":13},\"id\":\"1078\",\"type\":\"Range1d\"},{\"attributes\":{},\"id\":\"1113\",\"type\":\"AllLabels\"},{\"attributes\":{\"color_mapper\":{\"id\":\"1087\"},\"dh\":{\"value\":13},\"dw\":{\"value\":15},\"image\":{\"field\":\"image\"},\"x\":{\"value\":0},\"y\":{\"value\":0}},\"id\":\"1086\",\"type\":\"Image\"},{\"attributes\":{\"axis_label\":\"translation tokens\",\"formatter\":{\"id\":\"1112\"},\"major_label_overrides\":{\"0.5\":\"_EOS_\",\"1.5\":\".\",\"10.5\":\"services\",\"11.5\":\"other\",\"12.5\":\"_BOS_\",\"2.5\":\"available\",\"3.5\":\"are\",\"4.5\":\"services\",\"5.5\":\"shuttle\",\"6.5\":\"and\",\"7.5\":\"rental\",\"8.5\":\"bicycle\",\"9.5\":\",\"},\"major_label_policy\":{\"id\":\"1113\"},\"ticker\":{\"id\":\"1098\"}},\"id\":\"1097\",\"type\":\"LinearAxis\"},{\"attributes\":{},\"id\":\"1110\",\"type\":\"BasicTickFormatter\"},{\"attributes\":{\"ticks\":[0.5,1.5,2.5,3.5,4.5,5.5,6.5,7.5,8.5,9.5,10.5,11.5,12.5,13.5,14.5]},\"id\":\"1095\",\"type\":\"FixedTicker\"}],\"root_ids\":[\"1075\"]},\"title\":\"Bokeh Application\",\"version\":\"2.3.3\"}};\n",
              "  var render_items = [{\"docid\":\"38097865-fe02-4c35-8215-be87bea2872a\",\"root_ids\":[\"1075\"],\"roots\":{\"1075\":\"631a719f-cc4b-48c6-855b-74d6694d7a28\"}}];\n",
              "  root.Bokeh.embed.embed_items_notebook(docs_json, render_items);\n",
              "\n",
              "  }\n",
              "  if (root.Bokeh !== undefined) {\n",
              "    embed_document(root);\n",
              "  } else {\n",
              "    var attempts = 0;\n",
              "    var timer = setInterval(function(root) {\n",
              "      if (root.Bokeh !== undefined) {\n",
              "        clearInterval(timer);\n",
              "        embed_document(root);\n",
              "      } else {\n",
              "        attempts++;\n",
              "        if (attempts > 100) {\n",
              "          clearInterval(timer);\n",
              "          console.log(\"Bokeh: ERROR: Unable to run BokehJS code because BokehJS library is missing\");\n",
              "        }\n",
              "      }\n",
              "    }, 10, root)\n",
              "  }\n",
              "})(window);"
            ],
            "application/vnd.bokehjs_exec.v0+json": ""
          },
          "metadata": {
            "application/vnd.bokehjs_exec.v0+json": {
              "id": "1075"
            }
          }
        },
        {
          "output_type": "display_data",
          "data": {
            "text/html": [
              "\n",
              "\n",
              "\n",
              "\n",
              "\n",
              "\n",
              "  <div class=\"bk-root\" id=\"5d14de88-3f00-4626-8d35-29d78b49cb70\" data-root-id=\"1156\"></div>\n"
            ]
          },
          "metadata": {}
        },
        {
          "output_type": "display_data",
          "data": {
            "application/javascript": [
              "(function(root) {\n",
              "  function embed_document(root) {\n",
              "    \n",
              "  var docs_json = {\"0f4e6c09-cdfe-463c-bf74-fe5067bbee32\":{\"defs\":[],\"roots\":{\"references\":[{\"attributes\":{\"above\":[{\"id\":\"1175\"}],\"left\":[{\"id\":\"1178\"}],\"renderers\":[{\"id\":\"1173\"}],\"title\":{\"id\":\"1198\"},\"toolbar\":{\"id\":\"1165\"},\"x_range\":{\"id\":\"1157\"},\"x_scale\":{\"id\":\"1161\"},\"y_range\":{\"id\":\"1159\"},\"y_scale\":{\"id\":\"1163\"}},\"id\":\"1156\",\"subtype\":\"Figure\",\"type\":\"Plot\"},{\"attributes\":{},\"id\":\"1198\",\"type\":\"Title\"},{\"attributes\":{\"axis_label\":\"translation tokens\",\"formatter\":{\"id\":\"1201\"},\"major_label_overrides\":{\"0.5\":\"_EOS_\",\"1.5\":\".\",\"2.5\":\"away\",\"3.5\":\"km\",\"4.5\":\"26\",\"5.5\":\"is\",\"6.5\":\"cho\",\"7.5\":\"ran@@\",\"8.5\":\"saf@@\",\"9.5\":\"_BOS_\"},\"major_label_policy\":{\"id\":\"1202\"},\"ticker\":{\"id\":\"1179\"}},\"id\":\"1178\",\"type\":\"LinearAxis\"},{\"attributes\":{\"active_multi\":null},\"id\":\"1165\",\"type\":\"Toolbar\"},{\"attributes\":{\"color_mapper\":{\"id\":\"1171\"},\"dh\":{\"value\":10},\"dw\":{\"value\":13},\"global_alpha\":0.1,\"image\":{\"field\":\"image\"},\"x\":{\"value\":0},\"y\":{\"value\":0}},\"id\":\"1170\",\"type\":\"Image\"},{\"attributes\":{},\"id\":\"1200\",\"type\":\"AllLabels\"},{\"attributes\":{\"color_mapper\":{\"id\":\"1168\"},\"dh\":{\"value\":10},\"dw\":{\"value\":13},\"image\":{\"field\":\"image\"},\"x\":{\"value\":0},\"y\":{\"value\":0}},\"id\":\"1167\",\"type\":\"Image\"},{\"attributes\":{\"axis_label\":\"source tokens\",\"formatter\":{\"id\":\"1199\"},\"major_label_orientation\":45,\"major_label_overrides\":{\"0.5\":\"_BOS_\",\"1.5\":\"\\u0440\\u0430\\u0441\\u0441\\u0442\\u043e\\u044f\\u043d\\u0438\\u0435\",\"10.5\":\"\\u043a\\u043c\",\"11.5\":\".\",\"12.5\":\"_EOS_\",\"2.5\":\"\\u0434\\u043e\",\"3.5\":\"\\u0433\\u043e\\u0440\\u043e\\u0434\\u0430\",\"4.5\":\"\\u043a\\u0438@@\",\"5.5\":\"\\u0441\\u0441\\u0438@@\",\"6.5\":\"\\u043c@@\",\"7.5\":\"\\u043c\\u0438\",\"8.5\":\"\\u0441\\u043e\\u0441\\u0442\\u0430\\u0432\\u043b\\u044f\\u0435\\u0442\",\"9.5\":\"26\"},\"major_label_policy\":{\"id\":\"1200\"},\"ticker\":{\"id\":\"1176\"}},\"id\":\"1175\",\"type\":\"LinearAxis\"},{\"attributes\":{\"palette\":[\"#000000\",\"#252525\",\"#525252\",\"#737373\",\"#969696\",\"#bdbdbd\",\"#d9d9d9\",\"#f0f0f0\",\"#ffffff\"]},\"id\":\"1168\",\"type\":\"LinearColorMapper\"},{\"attributes\":{},\"id\":\"1161\",\"type\":\"LinearScale\"},{\"attributes\":{\"source\":{\"id\":\"1166\"}},\"id\":\"1174\",\"type\":\"CDSView\"},{\"attributes\":{},\"id\":\"1204\",\"type\":\"Selection\"},{\"attributes\":{\"ticks\":[0.5,1.5,2.5,3.5,4.5,5.5,6.5,7.5,8.5,9.5,10.5,11.5,12.5]},\"id\":\"1176\",\"type\":\"FixedTicker\"},{\"attributes\":{\"end\":10},\"id\":\"1159\",\"type\":\"Range1d\"},{\"attributes\":{\"end\":13},\"id\":\"1157\",\"type\":\"Range1d\"},{\"attributes\":{},\"id\":\"1202\",\"type\":\"AllLabels\"},{\"attributes\":{},\"id\":\"1199\",\"type\":\"BasicTickFormatter\"},{\"attributes\":{\"palette\":[\"#000000\",\"#252525\",\"#525252\",\"#737373\",\"#969696\",\"#bdbdbd\",\"#d9d9d9\",\"#f0f0f0\",\"#ffffff\"]},\"id\":\"1171\",\"type\":\"LinearColorMapper\"},{\"attributes\":{\"ticks\":[0.5,1.5,2.5,3.5,4.5,5.5,6.5,7.5,8.5,9.5]},\"id\":\"1179\",\"type\":\"FixedTicker\"},{\"attributes\":{},\"id\":\"1203\",\"type\":\"UnionRenderers\"},{\"attributes\":{},\"id\":\"1163\",\"type\":\"LinearScale\"},{\"attributes\":{\"data\":{\"image\":[{\"__ndarray__\":\"AI8gPbFXOjuW15Q9FkANPk02Iz35ixs+MsBHPs9gvj1xi4U7sxBFO1hWXTwhIMU9xVYaPsB0Uj9Izc48L9h7PS7nSDyE1C48E0s4PBN2ZTx347g7MpQJO3jNJju2IEY8mpgmPMQUKzwJOuM+owCPPd5poz7qSos9fFnQPPUnPjw+UPM7Lg/6O15iOTt8y9I7lyqwO1n+Rzw85aU8/MYmPbfwGDw/6zE7mTOEO9SZDjx7VGQ7VYb1O8NgMjucFPQ7fLYlPTGWgD55bQo/g+mlPfreqzea3Fk4uGUYNxvYbTg+CFE4jsEWN9BMjDes8sQ2RVUNOLc1AzrUDjc/RsGOPneQrzuYmq06EAjBOisVYznkXYA5b5+VOpemxzpldrc7rbsuO7eyKjuPJ448pNYsP5ggej7NNj49mro6N3F4CTiIWAU5nuxyO14AhDxfxSg+FrD5PrKoKj6C9xM9J8qtPKspmjtzK0o8ARyxPUvanjkLvoo5rZlMOp+Y0zyrjRc9ERoUPocwNj6VTUk+ZUr6PaQuIjyk29U7V/U8PaB7bT42c1A7ELdOOyX1ATzqTsU8q6ZvPgeNFz75gnU+1keuPcg9/T2R3bE9JZK7O8DzmzwCt5884uMMOXj3xznMNFg6S8HbOyFMizw6NcM+hY3OPu8nJD6wTso8yCCRO5xFLTmMy8Y5ShSUOQ==\",\"dtype\":\"float32\",\"order\":\"little\",\"shape\":[10,13]}]},\"selected\":{\"id\":\"1204\"},\"selection_policy\":{\"id\":\"1203\"}},\"id\":\"1166\",\"type\":\"ColumnDataSource\"},{\"attributes\":{\"data_source\":{\"id\":\"1166\"},\"glyph\":{\"id\":\"1167\"},\"hover_glyph\":null,\"muted_glyph\":null,\"nonselection_glyph\":{\"id\":\"1170\"},\"view\":{\"id\":\"1174\"}},\"id\":\"1173\",\"type\":\"GlyphRenderer\"},{\"attributes\":{},\"id\":\"1201\",\"type\":\"BasicTickFormatter\"}],\"root_ids\":[\"1156\"]},\"title\":\"Bokeh Application\",\"version\":\"2.3.3\"}};\n",
              "  var render_items = [{\"docid\":\"0f4e6c09-cdfe-463c-bf74-fe5067bbee32\",\"root_ids\":[\"1156\"],\"roots\":{\"1156\":\"5d14de88-3f00-4626-8d35-29d78b49cb70\"}}];\n",
              "  root.Bokeh.embed.embed_items_notebook(docs_json, render_items);\n",
              "\n",
              "  }\n",
              "  if (root.Bokeh !== undefined) {\n",
              "    embed_document(root);\n",
              "  } else {\n",
              "    var attempts = 0;\n",
              "    var timer = setInterval(function(root) {\n",
              "      if (root.Bokeh !== undefined) {\n",
              "        clearInterval(timer);\n",
              "        embed_document(root);\n",
              "      } else {\n",
              "        attempts++;\n",
              "        if (attempts > 100) {\n",
              "          clearInterval(timer);\n",
              "          console.log(\"Bokeh: ERROR: Unable to run BokehJS code because BokehJS library is missing\");\n",
              "        }\n",
              "      }\n",
              "    }, 10, root)\n",
              "  }\n",
              "})(window);"
            ],
            "application/vnd.bokehjs_exec.v0+json": ""
          },
          "metadata": {
            "application/vnd.bokehjs_exec.v0+json": {
              "id": "1156"
            }
          }
        },
        {
          "output_type": "display_data",
          "data": {
            "text/html": [
              "\n",
              "\n",
              "\n",
              "\n",
              "\n",
              "\n",
              "  <div class=\"bk-root\" id=\"d62cb44a-822c-46d2-825a-50a421e9a641\" data-root-id=\"1245\"></div>\n"
            ]
          },
          "metadata": {}
        },
        {
          "output_type": "display_data",
          "data": {
            "application/javascript": [
              "(function(root) {\n",
              "  function embed_document(root) {\n",
              "    \n",
              "  var docs_json = {\"e1a1a87f-1952-4071-98b3-26b3a096a2f6\":{\"defs\":[],\"roots\":{\"references\":[{\"attributes\":{\"above\":[{\"id\":\"1264\"}],\"left\":[{\"id\":\"1267\"}],\"renderers\":[{\"id\":\"1262\"}],\"title\":{\"id\":\"1295\"},\"toolbar\":{\"id\":\"1254\"},\"x_range\":{\"id\":\"1246\"},\"x_scale\":{\"id\":\"1250\"},\"y_range\":{\"id\":\"1248\"},\"y_scale\":{\"id\":\"1252\"}},\"id\":\"1245\",\"subtype\":\"Figure\",\"type\":\"Plot\"},{\"attributes\":{},\"id\":\"1296\",\"type\":\"BasicTickFormatter\"},{\"attributes\":{},\"id\":\"1297\",\"type\":\"AllLabels\"},{\"attributes\":{\"source\":{\"id\":\"1255\"}},\"id\":\"1263\",\"type\":\"CDSView\"},{\"attributes\":{\"palette\":[\"#000000\",\"#252525\",\"#525252\",\"#737373\",\"#969696\",\"#bdbdbd\",\"#d9d9d9\",\"#f0f0f0\",\"#ffffff\"]},\"id\":\"1257\",\"type\":\"LinearColorMapper\"},{\"attributes\":{},\"id\":\"1300\",\"type\":\"UnionRenderers\"},{\"attributes\":{\"data_source\":{\"id\":\"1255\"},\"glyph\":{\"id\":\"1256\"},\"hover_glyph\":null,\"muted_glyph\":null,\"nonselection_glyph\":{\"id\":\"1259\"},\"view\":{\"id\":\"1263\"}},\"id\":\"1262\",\"type\":\"GlyphRenderer\"},{\"attributes\":{\"color_mapper\":{\"id\":\"1257\"},\"dh\":{\"value\":34},\"dw\":{\"value\":32},\"image\":{\"field\":\"image\"},\"x\":{\"value\":0},\"y\":{\"value\":0}},\"id\":\"1256\",\"type\":\"Image\"},{\"attributes\":{\"color_mapper\":{\"id\":\"1260\"},\"dh\":{\"value\":34},\"dw\":{\"value\":32},\"global_alpha\":0.1,\"image\":{\"field\":\"image\"},\"x\":{\"value\":0},\"y\":{\"value\":0}},\"id\":\"1259\",\"type\":\"Image\"},{\"attributes\":{},\"id\":\"1301\",\"type\":\"Selection\"},{\"attributes\":{},\"id\":\"1295\",\"type\":\"Title\"},{\"attributes\":{\"axis_label\":\"translation tokens\",\"formatter\":{\"id\":\"1298\"},\"major_label_overrides\":{\"0.5\":\"_EOS_\",\"1.5\":\".\",\"10.5\":\"and\",\"11.5\":\"pool\",\"12.5\":\"swimming\",\"13.5\":\"a\",\"14.5\":\"with\",\"15.5\":\"accommodation\",\"16.5\":\"catering\",\"17.5\":\"-\",\"18.5\":\"self\",\"19.5\":\"a\",\"2.5\":\"beach\",\"20.5\":\"is\",\"21.5\":\"apartment\",\"22.5\":\"s\",\"23.5\":\"'\",\"24.5\":\"villa\",\"25.5\":\",\",\"26.5\":\"terrace\",\"27.5\":\"sun\",\"28.5\":\"a\",\"29.5\":\"and\",\"3.5\":\"the\",\"30.5\":\"pool\",\"31.5\":\"a\",\"32.5\":\"featuring\",\"33.5\":\"_BOS_\",\"4.5\":\"from\",\"5.5\":\"walk\",\"6.5\":\"minute\",\"7.5\":\"-\",\"8.5\":\"5\",\"9.5\":\"a\"},\"major_label_policy\":{\"id\":\"1299\"},\"ticker\":{\"id\":\"1268\"}},\"id\":\"1267\",\"type\":\"LinearAxis\"},{\"attributes\":{\"end\":34},\"id\":\"1248\",\"type\":\"Range1d\"},{\"attributes\":{},\"id\":\"1298\",\"type\":\"BasicTickFormatter\"},{\"attributes\":{\"palette\":[\"#000000\",\"#252525\",\"#525252\",\"#737373\",\"#969696\",\"#bdbdbd\",\"#d9d9d9\",\"#f0f0f0\",\"#ffffff\"]},\"id\":\"1260\",\"type\":\"LinearColorMapper\"},{\"attributes\":{\"axis_label\":\"source tokens\",\"formatter\":{\"id\":\"1296\"},\"major_label_orientation\":45,\"major_label_overrides\":{\"0.5\":\"_BOS_\",\"1.5\":\"\\u0430\\u043f\\u0430\\u0440\\u0442\\u0430\\u043c\\u0435\\u043d\\u0442\\u044b\",\"10.5\":\"\\u0441\\u0430\\u0434\\u043e\\u043c\",\"11.5\":\",\",\"12.5\":\"\\u043a\\u043e\\u043d\\u0434\\u0438\\u0446\\u0438\\u043e\\u043d\\u0435\\u0440\\u043e\\u043c\",\"13.5\":\"\\u0438\",\"14.5\":\"\\u0442\\u0435\\u0440\\u0440\\u0430\\u0441\\u043e\\u0439\",\"15.5\":\"\\u0434\\u043b\\u044f\",\"16.5\":\"\\u0437\\u0430\\u0433\\u0430\\u0440\\u0430\",\"17.5\":\"\\u0440\\u0430\\u0441\\u043f\\u043e\\u043b\\u043e\\u0436\\u0435\\u043d\\u044b\",\"18.5\":\"\\u0432\",\"19.5\":\"5\",\"2.5\":\"\\u0432\",\"20.5\":\"\\u043c\\u0438\\u043d\\u0443\\u0442\\u0430\\u0445\",\"21.5\":\"\\u0445\\u043e\\u0434\\u044c\\u0431\\u044b\",\"22.5\":\"\\u043e\\u0442\",\"23.5\":\"\\u043f\\u043b\\u044f\\u0436\\u0430\",\"24.5\":\"\\u043d\\u0430\",\"25.5\":\"\\u043a\\u0443\\u0440\\u043e\\u0440\\u0442\\u0435\",\"26.5\":\"\\u043a\\u0430@@\",\"27.5\":\"\\u0431\\u043e\",\"28.5\":\"-\",\"29.5\":\"\\u0440\\u043e\\u0439\",\"3.5\":\"\\u043f\\u0435\\u043d\\u0442@@\",\"30.5\":\".\",\"31.5\":\"_EOS_\",\"4.5\":\"\\u0445\\u0430\\u0443\\u0441\\u0435\",\"5.5\":\"\\u0441\",\"6.5\":\"\\u043e\\u0431\\u0449\\u0438\\u043c\",\"7.5\":\"\\u043e\\u0442\\u043a\\u0440\\u044b\\u0442\\u044b\\u043c\",\"8.5\":\"\\u0431\\u0430\\u0441\\u0441\\u0435\\u0439\\u043d\\u043e\\u043c\",\"9.5\":\",\"},\"major_label_policy\":{\"id\":\"1297\"},\"ticker\":{\"id\":\"1265\"}},\"id\":\"1264\",\"type\":\"LinearAxis\"},{\"attributes\":{\"data\":{\"image\":[{\"__ndarray__\":\"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\",\"dtype\":\"float32\",\"order\":\"little\",\"shape\":[34,32]}]},\"selected\":{\"id\":\"1301\"},\"selection_policy\":{\"id\":\"1300\"}},\"id\":\"1255\",\"type\":\"ColumnDataSource\"},{\"attributes\":{\"ticks\":[0.5,1.5,2.5,3.5,4.5,5.5,6.5,7.5,8.5,9.5,10.5,11.5,12.5,13.5,14.5,15.5,16.5,17.5,18.5,19.5,20.5,21.5,22.5,23.5,24.5,25.5,26.5,27.5,28.5,29.5,30.5,31.5]},\"id\":\"1265\",\"type\":\"FixedTicker\"},{\"attributes\":{},\"id\":\"1252\",\"type\":\"LinearScale\"},{\"attributes\":{},\"id\":\"1299\",\"type\":\"AllLabels\"},{\"attributes\":{},\"id\":\"1250\",\"type\":\"LinearScale\"},{\"attributes\":{\"ticks\":[0.5,1.5,2.5,3.5,4.5,5.5,6.5,7.5,8.5,9.5,10.5,11.5,12.5,13.5,14.5,15.5,16.5,17.5,18.5,19.5,20.5,21.5,22.5,23.5,24.5,25.5,26.5,27.5,28.5,29.5,30.5,31.5,32.5,33.5]},\"id\":\"1268\",\"type\":\"FixedTicker\"},{\"attributes\":{\"end\":32},\"id\":\"1246\",\"type\":\"Range1d\"},{\"attributes\":{\"active_multi\":null},\"id\":\"1254\",\"type\":\"Toolbar\"}],\"root_ids\":[\"1245\"]},\"title\":\"Bokeh Application\",\"version\":\"2.3.3\"}};\n",
              "  var render_items = [{\"docid\":\"e1a1a87f-1952-4071-98b3-26b3a096a2f6\",\"root_ids\":[\"1245\"],\"roots\":{\"1245\":\"d62cb44a-822c-46d2-825a-50a421e9a641\"}}];\n",
              "  root.Bokeh.embed.embed_items_notebook(docs_json, render_items);\n",
              "\n",
              "  }\n",
              "  if (root.Bokeh !== undefined) {\n",
              "    embed_document(root);\n",
              "  } else {\n",
              "    var attempts = 0;\n",
              "    var timer = setInterval(function(root) {\n",
              "      if (root.Bokeh !== undefined) {\n",
              "        clearInterval(timer);\n",
              "        embed_document(root);\n",
              "      } else {\n",
              "        attempts++;\n",
              "        if (attempts > 100) {\n",
              "          clearInterval(timer);\n",
              "          console.log(\"Bokeh: ERROR: Unable to run BokehJS code because BokehJS library is missing\");\n",
              "        }\n",
              "      }\n",
              "    }, 10, root)\n",
              "  }\n",
              "})(window);"
            ],
            "application/vnd.bokehjs_exec.v0+json": ""
          },
          "metadata": {
            "application/vnd.bokehjs_exec.v0+json": {
              "id": "1245"
            }
          }
        },
        {
          "output_type": "display_data",
          "data": {
            "text/html": [
              "\n",
              "\n",
              "\n",
              "\n",
              "\n",
              "\n",
              "  <div class=\"bk-root\" id=\"a27781c3-df5f-40bc-9ac8-78720f01d8c7\" data-root-id=\"1342\"></div>\n"
            ]
          },
          "metadata": {}
        },
        {
          "output_type": "display_data",
          "data": {
            "application/javascript": [
              "(function(root) {\n",
              "  function embed_document(root) {\n",
              "    \n",
              "  var docs_json = {\"7cb202d9-ba21-44a0-8be3-30990eacdff2\":{\"defs\":[],\"roots\":{\"references\":[{\"attributes\":{\"above\":[{\"id\":\"1361\"}],\"left\":[{\"id\":\"1364\"}],\"renderers\":[{\"id\":\"1359\"}],\"title\":{\"id\":\"1400\"},\"toolbar\":{\"id\":\"1351\"},\"x_range\":{\"id\":\"1343\"},\"x_scale\":{\"id\":\"1347\"},\"y_range\":{\"id\":\"1345\"},\"y_scale\":{\"id\":\"1349\"}},\"id\":\"1342\",\"subtype\":\"Figure\",\"type\":\"Plot\"},{\"attributes\":{},\"id\":\"1406\",\"type\":\"Selection\"},{\"attributes\":{},\"id\":\"1349\",\"type\":\"LinearScale\"},{\"attributes\":{},\"id\":\"1347\",\"type\":\"LinearScale\"},{\"attributes\":{\"axis_label\":\"source tokens\",\"formatter\":{\"id\":\"1401\"},\"major_label_orientation\":45,\"major_label_overrides\":{\"0.5\":\"_BOS_\",\"1.5\":\"\\u0430\\u043f\\u0430\\u0440\\u0442\\u0430\\u043c\\u0435\\u043d\\u0442\\u044b\",\"10.5\":\"square\",\"11.5\":\"\\u043d\\u0430\\u0445\\u043e\\u0434\\u044f\\u0442\\u0441\\u044f\",\"12.5\":\"\\u0432\",\"13.5\":\"\\u043c\\u043e\\u0441\\u043a\\u0432\\u0435\",\"14.5\":\",\",\"15.5\":\"\\u0432\",\"16.5\":\"200\",\"17.5\":\"\\u043c\\u0435\\u0442\\u0440\\u0430\\u0445\",\"18.5\":\"\\u043e\\u0442\",\"19.5\":\"\\u0431\\u043e\\u043b\\u044c\\u0448\\u043e\\u0433\\u043e\",\"2.5\":\"mo@@\",\"20.5\":\"\\u0442\\u0435\\u0430\\u0442\\u0440\\u0430\",\"21.5\":\".\",\"22.5\":\"_EOS_\",\"3.5\":\"s@@\",\"4.5\":\"co@@\",\"5.5\":\"w\",\"6.5\":\"point\",\"7.5\":\"-\",\"8.5\":\"loft\",\"9.5\":\"red\"},\"major_label_policy\":{\"id\":\"1402\"},\"ticker\":{\"id\":\"1362\"}},\"id\":\"1361\",\"type\":\"LinearAxis\"},{\"attributes\":{},\"id\":\"1405\",\"type\":\"UnionRenderers\"},{\"attributes\":{\"color_mapper\":{\"id\":\"1357\"},\"dh\":{\"value\":25},\"dw\":{\"value\":23},\"global_alpha\":0.1,\"image\":{\"field\":\"image\"},\"x\":{\"value\":0},\"y\":{\"value\":0}},\"id\":\"1356\",\"type\":\"Image\"},{\"attributes\":{\"source\":{\"id\":\"1352\"}},\"id\":\"1360\",\"type\":\"CDSView\"},{\"attributes\":{},\"id\":\"1401\",\"type\":\"BasicTickFormatter\"},{\"attributes\":{\"ticks\":[0.5,1.5,2.5,3.5,4.5,5.5,6.5,7.5,8.5,9.5,10.5,11.5,12.5,13.5,14.5,15.5,16.5,17.5,18.5,19.5,20.5,21.5,22.5,23.5,24.5]},\"id\":\"1365\",\"type\":\"FixedTicker\"},{\"attributes\":{\"palette\":[\"#000000\",\"#252525\",\"#525252\",\"#737373\",\"#969696\",\"#bdbdbd\",\"#d9d9d9\",\"#f0f0f0\",\"#ffffff\"]},\"id\":\"1357\",\"type\":\"LinearColorMapper\"},{\"attributes\":{\"active_multi\":null},\"id\":\"1351\",\"type\":\"Toolbar\"},{\"attributes\":{},\"id\":\"1403\",\"type\":\"BasicTickFormatter\"},{\"attributes\":{\"end\":25},\"id\":\"1345\",\"type\":\"Range1d\"},{\"attributes\":{\"end\":23},\"id\":\"1343\",\"type\":\"Range1d\"},{\"attributes\":{\"data_source\":{\"id\":\"1352\"},\"glyph\":{\"id\":\"1353\"},\"hover_glyph\":null,\"muted_glyph\":null,\"nonselection_glyph\":{\"id\":\"1356\"},\"view\":{\"id\":\"1360\"}},\"id\":\"1359\",\"type\":\"GlyphRenderer\"},{\"attributes\":{\"data\":{\"image\":[{\"__ndarray__\":\"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\",\"dtype\":\"float32\",\"order\":\"little\",\"shape\":[25,23]}]},\"selected\":{\"id\":\"1406\"},\"selection_policy\":{\"id\":\"1405\"}},\"id\":\"1352\",\"type\":\"ColumnDataSource\"},{\"attributes\":{},\"id\":\"1402\",\"type\":\"AllLabels\"},{\"attributes\":{\"palette\":[\"#000000\",\"#252525\",\"#525252\",\"#737373\",\"#969696\",\"#bdbdbd\",\"#d9d9d9\",\"#f0f0f0\",\"#ffffff\"]},\"id\":\"1354\",\"type\":\"LinearColorMapper\"},{\"attributes\":{\"ticks\":[0.5,1.5,2.5,3.5,4.5,5.5,6.5,7.5,8.5,9.5,10.5,11.5,12.5,13.5,14.5,15.5,16.5,17.5,18.5,19.5,20.5,21.5,22.5]},\"id\":\"1362\",\"type\":\"FixedTicker\"},{\"attributes\":{},\"id\":\"1404\",\"type\":\"AllLabels\"},{\"attributes\":{\"axis_label\":\"translation tokens\",\"formatter\":{\"id\":\"1403\"},\"major_label_overrides\":{\"0.5\":\"_EOS_\",\"1.5\":\".\",\"10.5\":\"nez@@\",\"11.5\":\"voro@@\",\"12.5\":\"in\",\"13.5\":\"apartment\",\"14.5\":\"castle\",\"15.5\":\"m\",\"16.5\":\"3@@\",\"17.5\":\"and\",\"18.5\":\"apartment\",\"19.5\":\"the\",\"2.5\":\"tbilisi\",\"20.5\":\"from\",\"21.5\":\"metres\",\"22.5\":\"200\",\"23.5\":\"located\",\"24.5\":\"_BOS_\",\"3.5\":\"in\",\"4.5\":\"accommodation\",\"5.5\":\"features\",\"6.5\":\"apartment\",\"7.5\":\"this\",\"8.5\":\",\",\"9.5\":\"m\"},\"major_label_policy\":{\"id\":\"1404\"},\"ticker\":{\"id\":\"1365\"}},\"id\":\"1364\",\"type\":\"LinearAxis\"},{\"attributes\":{\"color_mapper\":{\"id\":\"1354\"},\"dh\":{\"value\":25},\"dw\":{\"value\":23},\"image\":{\"field\":\"image\"},\"x\":{\"value\":0},\"y\":{\"value\":0}},\"id\":\"1353\",\"type\":\"Image\"},{\"attributes\":{},\"id\":\"1400\",\"type\":\"Title\"}],\"root_ids\":[\"1342\"]},\"title\":\"Bokeh Application\",\"version\":\"2.3.3\"}};\n",
              "  var render_items = [{\"docid\":\"7cb202d9-ba21-44a0-8be3-30990eacdff2\",\"root_ids\":[\"1342\"],\"roots\":{\"1342\":\"a27781c3-df5f-40bc-9ac8-78720f01d8c7\"}}];\n",
              "  root.Bokeh.embed.embed_items_notebook(docs_json, render_items);\n",
              "\n",
              "  }\n",
              "  if (root.Bokeh !== undefined) {\n",
              "    embed_document(root);\n",
              "  } else {\n",
              "    var attempts = 0;\n",
              "    var timer = setInterval(function(root) {\n",
              "      if (root.Bokeh !== undefined) {\n",
              "        clearInterval(timer);\n",
              "        embed_document(root);\n",
              "      } else {\n",
              "        attempts++;\n",
              "        if (attempts > 100) {\n",
              "          clearInterval(timer);\n",
              "          console.log(\"Bokeh: ERROR: Unable to run BokehJS code because BokehJS library is missing\");\n",
              "        }\n",
              "      }\n",
              "    }, 10, root)\n",
              "  }\n",
              "})(window);"
            ],
            "application/vnd.bokehjs_exec.v0+json": ""
          },
          "metadata": {
            "application/vnd.bokehjs_exec.v0+json": {
              "id": "1342"
            }
          }
        }
      ]
    },
    {
      "cell_type": "markdown",
      "metadata": {
        "id": "ZsoZHLUiemSh"
      },
      "source": [
        "__Note 1:__ If the attention maps are not iterpretable, try starting encoder from zeros (instead of dec_start), forcing model to use attention.\n",
        "\n",
        "__Note 2:__ If you're studying this course as a YSDA student, please submit __attention screenshots__ alongside your notebook."
      ]
    },
    {
      "cell_type": "markdown",
      "metadata": {
        "id": "pbIIngNVlrtt"
      },
      "source": [
        "## Goind deeper (2++ points each)\n",
        "\n",
        "We want you to find the best model for the task. Use everything you know.\n",
        "\n",
        "* different recurrent units: rnn/gru/lstm; deeper architectures\n",
        "* bidirectional encoder, different attention methods for decoder (additive, dot-product, multi-head)\n",
        "* word dropout, training schedules, anything you can imagine\n",
        "* replace greedy inference with beam search\n",
        "\n",
        "For a better grasp of seq2seq We recommend you to conduct at least one experiment from one of the bullet-points or your alternative ideas. As usual, describe what you tried and what results you obtained in a short report."
      ]
    },
    {
      "cell_type": "markdown",
      "metadata": {
        "collapsed": true,
        "id": "2rzAj_xtlrtt"
      },
      "source": [
        "`[your report/log here or anywhere you please]`"
      ]
    }
  ]
}